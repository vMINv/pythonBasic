{
  "nbformat": 4,
  "nbformat_minor": 0,
  "metadata": {
    "colab": {
      "provenance": [],
      "include_colab_link": true
    },
    "kernelspec": {
      "name": "python3",
      "display_name": "Python 3"
    },
    "language_info": {
      "name": "python"
    }
  },
  "cells": [
    {
      "cell_type": "markdown",
      "metadata": {
        "id": "view-in-github",
        "colab_type": "text"
      },
      "source": [
        "<a href=\"https://colab.research.google.com/github/vMINv/pythonBasic/blob/main/PythonDay4.ipynb\" target=\"_parent\"><img src=\"https://colab.research.google.com/assets/colab-badge.svg\" alt=\"Open In Colab\"/></a>"
      ]
    },
    {
      "cell_type": "code",
      "execution_count": null,
      "metadata": {
        "id": "sD3O3eI7OlFB",
        "colab": {
          "base_uri": "https://localhost:8080/"
        },
        "outputId": "bcb26568-54f1-4d7e-eb50-2b66966b0315"
      },
      "outputs": [
        {
          "output_type": "stream",
          "name": "stdout",
          "text": [
            "현재시간을 입력하세요 > 02:00\n",
            "정각입니다.\n"
          ]
        }
      ],
      "source": [
        "####################### IF ####################################\n",
        "\n",
        "\n",
        "# 1. 사용자로부터 입력 받은 시간이 정각인지를 판별하세요\n",
        "\n",
        "# 02:00   정각입니다.\n",
        "# 02:10   정각이 아닙니다.\n",
        "# 11:23   정각이 아닙니다.\n",
        "\n",
        "# Hint - 항상 정각은 끝에 두자리가 00으로 끝난다. \n",
        "\n",
        "time = input(\"현재시간을 입력하세요 > \")\n",
        "\n",
        "if time[-2:] == \"00\":\n",
        "  print(\"정각입니다.\")\n",
        "else:\n",
        "  print(\"정각이 아닙니다.\")"
      ]
    },
    {
      "cell_type": "code",
      "source": [
        "# 슬라이싱\n",
        "\n",
        "txt = \"i love you\"\n",
        "\n",
        "txt[0:6]\n",
        "\n",
        "txt[-1]\n",
        "\n",
        "txt[-2:]"
      ],
      "metadata": {
        "colab": {
          "base_uri": "https://localhost:8080/",
          "height": 36
        },
        "id": "-K6CUa6yS7b8",
        "outputId": "4f451330-d35c-441a-9f5f-c3e3ef2226f2"
      },
      "execution_count": null,
      "outputs": [
        {
          "output_type": "execute_result",
          "data": {
            "text/plain": [
              "'ou'"
            ],
            "application/vnd.google.colaboratory.intrinsic+json": {
              "type": "string"
            }
          },
          "metadata": {},
          "execution_count": 4
        }
      ]
    },
    {
      "cell_type": "code",
      "source": [
        "# 2\n",
        "\n",
        "warn_investment_list = [\"Microsoft\", \"Google\", \"Naver\", \"Kakao\", \"SAMSUNG\", \"LG\"]\n",
        "\n",
        "종목 = input(\"종목명: \")\n",
        "if 종목 in warn_investment_list:\n",
        "    print(\"투자 경고 종목입니다.\")\n",
        "else:\n",
        "    print(\"투자 경고 종목이 아닙니다.\")\n",
        "\n",
        "\n",
        "#Hint : in 연산자 "
      ],
      "metadata": {
        "colab": {
          "base_uri": "https://localhost:8080/"
        },
        "id": "l3sAbggHSoXN",
        "outputId": "265beec4-3d6a-43a8-cb5e-447424ad3045"
      },
      "execution_count": null,
      "outputs": [
        {
          "output_type": "stream",
          "name": "stdout",
          "text": [
            "종목명: Google\n",
            "투자 경고 종목입니다.\n"
          ]
        }
      ]
    },
    {
      "cell_type": "code",
      "source": [
        "# 3\n",
        "\n",
        "txt = input(\"한 글자만 입력하세요 >\")\n",
        "\n",
        "if txt.islower():\n",
        "  print(txt.upper())\n",
        "else:\n",
        "  print(txt.lower())\n",
        "  \n",
        "\n",
        "# Hint : .lower()    .upper()"
      ],
      "metadata": {
        "colab": {
          "base_uri": "https://localhost:8080/"
        },
        "id": "tArXGKV0U4M9",
        "outputId": "fcc09b3f-dfea-4cdc-9c91-3105c914724d"
      },
      "execution_count": null,
      "outputs": [
        {
          "output_type": "stream",
          "name": "stdout",
          "text": [
            "한 글자만 입력하세요 >S\n",
            "s\n"
          ]
        }
      ]
    },
    {
      "cell_type": "code",
      "source": [
        "# 4\n",
        "\n",
        "no = int(input(\"학생의 점수를 입력하세요 > \"))\n",
        "\n",
        "if no >= 90:\n",
        "  grade = 'A'\n",
        "elif no >= 80:\n",
        "  grade = 'B'\n",
        "elif no >= 70:\n",
        "  grade = 'C'\n",
        "elif no >= 60:\n",
        "  grade = 'D'\n",
        "else:\n",
        "  grade = 'F'\n",
        "\n",
        "if no % 10 >= 0 and no % 10 <= 3:\n",
        "  grade2 = '-'\n",
        "elif no % 10 >= 4 and no % 10 <= 6:\n",
        "  grade2 = '0'\n",
        "else:\n",
        "  grade2 = '+'\n",
        "\n",
        "print(f'입력하신 학생의 학점은 {grade}{grade2}입니다.')\n",
        "\n",
        "# 문제 2가지 100점인 학생이 A-\n",
        "#            F점대 학생들도 + 0 - 가 나옴"
      ],
      "metadata": {
        "colab": {
          "base_uri": "https://localhost:8080/"
        },
        "id": "sXnBwmloXCR2",
        "outputId": "a7eec967-aab6-4bbe-b6a3-981814ab37c6"
      },
      "execution_count": null,
      "outputs": [
        {
          "output_type": "stream",
          "name": "stdout",
          "text": [
            "학생의 점수를 입력하세요 > 59\n",
            "입력하신 학생의 학점은 F+입니다.\n"
          ]
        }
      ]
    },
    {
      "cell_type": "code",
      "source": [
        "####################### For ####################################\n",
        "\n",
        "# 5\n",
        "list = [ 3, -20, -3, 44]\n",
        "for i in list:\n",
        "  if i < 0:\n",
        "    print(i)"
      ],
      "metadata": {
        "colab": {
          "base_uri": "https://localhost:8080/"
        },
        "id": "1liYOm9fc78f",
        "outputId": "9cd36ceb-af6e-4b9a-c89c-54bb897d0d3d"
      },
      "execution_count": null,
      "outputs": [
        {
          "output_type": "stream",
          "name": "stdout",
          "text": [
            "-20\n",
            "-3\n"
          ]
        }
      ]
    },
    {
      "cell_type": "code",
      "source": [
        "# 6\n",
        "\n",
        "list = [3,100,23,44,6,9]\n",
        "\n",
        "for i in list :\n",
        "  if i % 3 == 0 :\n",
        "    print(i)"
      ],
      "metadata": {
        "colab": {
          "base_uri": "https://localhost:8080/"
        },
        "id": "EN93EwUffDl3",
        "outputId": "8969995e-c3d3-43c5-949f-5536ce66d43d"
      },
      "execution_count": null,
      "outputs": [
        {
          "output_type": "stream",
          "name": "stdout",
          "text": [
            "3\n",
            "6\n",
            "9\n"
          ]
        }
      ]
    },
    {
      "cell_type": "code",
      "source": [
        "# 7 \n",
        "\n",
        "list = [\"I\", \"study\", \"python\", \"language\", \"!\"]\n",
        "for i in list:\n",
        "  if len(i) >= 3:\n",
        "    print(i)\n",
        "\n",
        "# hint : len()\n"
      ],
      "metadata": {
        "colab": {
          "base_uri": "https://localhost:8080/"
        },
        "id": "MX-xUxfwfGat",
        "outputId": "e705538a-55b1-4b2c-ff64-c7943939873b"
      },
      "execution_count": null,
      "outputs": [
        {
          "output_type": "stream",
          "name": "stdout",
          "text": [
            "study\n",
            "python\n",
            "language\n"
          ]
        }
      ]
    },
    {
      "cell_type": "code",
      "source": [
        "# 8 for 문을 사용하여 대문자만을 출력하라\n",
        "\n",
        "list = [\"A\", \"b\", \"c\", \"D\"]\n",
        "\n",
        "for i in list :\n",
        "  if i == i.upper() :\n",
        "    print(i)"
      ],
      "metadata": {
        "id": "ipUggCATgUiV"
      },
      "execution_count": null,
      "outputs": []
    },
    {
      "cell_type": "code",
      "source": [
        "# 9\n",
        "\n",
        "l1 = ['dog', 'cat', 'parrot']\n",
        "\n",
        "for i in l1:\n",
        "  c1 = i[0]   # 인덱싱 첫글자\n",
        "  c2 = c1.upper()\n",
        "  print(c2 + i[1:])"
      ],
      "metadata": {
        "colab": {
          "base_uri": "https://localhost:8080/"
        },
        "id": "Oz6FRkobhr4U",
        "outputId": "e18fecc4-9742-4cb3-eebc-5f33aef9a67e"
      },
      "execution_count": null,
      "outputs": [
        {
          "output_type": "stream",
          "name": "stdout",
          "text": [
            "Dog\n",
            "Cat\n",
            "Parrot\n"
          ]
        }
      ]
    },
    {
      "cell_type": "code",
      "source": [
        "l1 = ['dog', 'cat', 'parrot']\n",
        "\n",
        "for i in l1:\n",
        "  print(i[0].upper() + i[1:])"
      ],
      "metadata": {
        "colab": {
          "base_uri": "https://localhost:8080/"
        },
        "id": "QgJ5BVxTiSJM",
        "outputId": "619f140c-c253-41dd-a1d5-e614323b399a"
      },
      "execution_count": null,
      "outputs": [
        {
          "output_type": "stream",
          "name": "stdout",
          "text": [
            "Dog\n",
            "Cat\n",
            "Parrot\n"
          ]
        }
      ]
    },
    {
      "cell_type": "code",
      "source": [
        "# 10\n",
        "\n",
        "\n",
        "for i in ['hello.py', 'ex01.py', 'intro.hwp']:\n",
        "  print(i.split('.')[0])"
      ],
      "metadata": {
        "colab": {
          "base_uri": "https://localhost:8080/"
        },
        "id": "Uy6LIyAzi671",
        "outputId": "37d7c84a-8f4a-42bd-ba3b-adea8c5611ca"
      },
      "execution_count": null,
      "outputs": [
        {
          "output_type": "stream",
          "name": "stdout",
          "text": [
            "hello\n",
            "ex01\n",
            "intro\n"
          ]
        }
      ]
    },
    {
      "cell_type": "code",
      "source": [
        "# 11\n",
        "\n",
        "sum = 0\n",
        "for i in range(1, 11):\n",
        "  if i % 2 == 1:\n",
        "    sum += i\n",
        "print(sum)"
      ],
      "metadata": {
        "id": "d1JGywB1koit"
      },
      "execution_count": null,
      "outputs": []
    },
    {
      "cell_type": "code",
      "source": [
        "# 12\n",
        "\n",
        "\n",
        "my_list = [\"가\", \"나\", \"다\", \"라\"]\n",
        "\n",
        "print(my_list[3], my_list[2])\n",
        "print(my_list[2], my_list[1])\n",
        "print(my_list[1], my_list[0])"
      ],
      "metadata": {
        "colab": {
          "base_uri": "https://localhost:8080/"
        },
        "id": "aZVdsJ7kk0TT",
        "outputId": "8cd7cbf4-8778-4921-ba68-ead5f8fc04c6"
      },
      "execution_count": null,
      "outputs": [
        {
          "output_type": "stream",
          "name": "stdout",
          "text": [
            "라 다\n",
            "다 나\n",
            "나 가\n"
          ]
        }
      ]
    },
    {
      "cell_type": "code",
      "source": [
        "\n",
        "my_list = [\"가\", \"나\", \"다\", \"라\"]\n",
        "\n",
        "print(my_list[3], my_list[2])\n",
        "print(my_list[2], my_list[1])\n",
        "print(my_list[1], my_list[0])"
      ],
      "metadata": {
        "id": "lU9rvJ0LmfrE"
      },
      "execution_count": null,
      "outputs": []
    },
    {
      "cell_type": "code",
      "source": [
        "my_list = [\"가\", \"나\", \"다\", \"라\"]\n",
        "\n",
        "for i in [3,2,1]:\n",
        "  print(my_list[i], my_list[i-1])"
      ],
      "metadata": {
        "colab": {
          "base_uri": "https://localhost:8080/"
        },
        "id": "fMdh9QQsmoCT",
        "outputId": "d1c348f4-8267-4fe9-d012-ae4da97d1000"
      },
      "execution_count": null,
      "outputs": [
        {
          "output_type": "stream",
          "name": "stdout",
          "text": [
            "라 다\n",
            "다 나\n",
            "나 가\n"
          ]
        }
      ]
    },
    {
      "cell_type": "code",
      "source": [
        "list = [\"가\", \"나\", \"다\", \"라\"]\n",
        "for i in range(len(list)-1, 0, -1):\n",
        "  print(list[i], list[i-1])"
      ],
      "metadata": {
        "colab": {
          "base_uri": "https://localhost:8080/"
        },
        "id": "JWEeNb2SnB-X",
        "outputId": "14e687c2-37e1-4394-a29d-0450be7c89e1"
      },
      "execution_count": null,
      "outputs": [
        {
          "output_type": "stream",
          "name": "stdout",
          "text": [
            "라 다\n",
            "다 나\n",
            "나 가\n"
          ]
        }
      ]
    },
    {
      "cell_type": "code",
      "source": [
        "# 13\n",
        "\n",
        "ohlc = [[\"open\", \"high\", \"low\", \"close\"],\n",
        "        [100, 110, 70, 100],\n",
        "        [200, 210, 180, 190],\n",
        "        [300, 310, 300, 310]]\n",
        "\n",
        "\n",
        "for i in (range(1,len(ohlc))):\n",
        "  print(ohlc[i][3])"
      ],
      "metadata": {
        "colab": {
          "base_uri": "https://localhost:8080/"
        },
        "id": "A7qJkY_Kobzk",
        "outputId": "6d8164a0-d21c-4194-a4e7-36a74f0781d7"
      },
      "execution_count": null,
      "outputs": [
        {
          "output_type": "stream",
          "name": "stdout",
          "text": [
            "100\n",
            "190\n",
            "310\n"
          ]
        }
      ]
    },
    {
      "cell_type": "code",
      "source": [
        "# 14\n",
        "\n",
        "total = 0\n",
        "while total <= 50:\n",
        "  total += int(input('더할 수 입력 : '))\n",
        "print(total)"
      ],
      "metadata": {
        "colab": {
          "base_uri": "https://localhost:8080/"
        },
        "id": "5cBn0-2Gs9Gv",
        "outputId": "ea0651ae-9f09-42b3-852a-a4f20d067b92"
      },
      "execution_count": null,
      "outputs": [
        {
          "output_type": "stream",
          "name": "stdout",
          "text": [
            "더할 수 입력 : 10\n",
            "더할 수 입력 : 30\n",
            "더할 수 입력 : 20\n",
            "60\n"
          ]
        }
      ]
    },
    {
      "cell_type": "code",
      "source": [
        "# 15\n",
        "\n",
        "num = 0\n",
        "while num <= 5:\n",
        "  num = int(input('수 입력 : '))\n",
        "print(num)\n",
        "\n"
      ],
      "metadata": {
        "id": "pHfoXPdivHAm"
      },
      "execution_count": null,
      "outputs": []
    },
    {
      "cell_type": "code",
      "source": [
        "# 16\n",
        "\n",
        "by 김도영\n",
        "\n",
        "a = 0\n",
        "while True:\n",
        "    a = int(input(\"10 ~ 20 숫자 입력 > \"))\n",
        "    if a > 20:\n",
        "        print(\"Too high\")\n",
        "    elif a < 10:\n",
        "        print(\"Too low\")\n",
        "    else:\n",
        "        print(\"Thank you\")\n",
        "        break"
      ],
      "metadata": {
        "colab": {
          "base_uri": "https://localhost:8080/"
        },
        "id": "jBYnII7AvOyk",
        "outputId": "27396efb-9b8c-4417-85ee-ffaa9b826bdd"
      },
      "execution_count": null,
      "outputs": [
        {
          "output_type": "stream",
          "name": "stdout",
          "text": [
            "10 ~ 20 숫자 입력 > 4\n",
            "Too low\n",
            "10 ~ 20 숫자 입력 > 3\n",
            "Too low\n",
            "10 ~ 20 숫자 입력 > 40\n",
            "Too high\n",
            "10 ~ 20 숫자 입력 > 33\n",
            "Too high\n",
            "10 ~ 20 숫자 입력 > 11\n",
            "Thank you\n"
          ]
        }
      ]
    },
    {
      "cell_type": "code",
      "source": [
        "# 17\n",
        "\n",
        "import random\n",
        "\n",
        "compnum = random.randrange(1, 101)\n",
        "\n"
      ],
      "metadata": {
        "colab": {
          "base_uri": "https://localhost:8080/"
        },
        "id": "pb5z6mECv5JN",
        "outputId": "7cf24c60-762b-4f76-da8c-a0ff53044043"
      },
      "execution_count": null,
      "outputs": [
        {
          "output_type": "stream",
          "name": "stdout",
          "text": [
            "13\n"
          ]
        }
      ]
    },
    {
      "cell_type": "code",
      "source": [
        "#17\n",
        "\n",
        "import random\n",
        "\n",
        "compnum = random.randrange(1, 101)\n",
        "count = 0\n",
        "while True:\n",
        "    a = int(input(\"1 ~ 100 숫자 입력 > \"))\n",
        "    if a > compnum:\n",
        "        print(\"Too high\")\n",
        "        count += 1\n",
        "    elif a < compnum:\n",
        "        print(\"Too low\")\n",
        "        count += 1\n",
        "    else:\n",
        "        print(f\"Well done. you took {count} attempts\")\n",
        "        break"
      ],
      "metadata": {
        "colab": {
          "base_uri": "https://localhost:8080/"
        },
        "id": "WJV33a8Yw-ZS",
        "outputId": "a545a6ee-4271-442c-c677-c2f576f20ded"
      },
      "execution_count": null,
      "outputs": [
        {
          "output_type": "stream",
          "name": "stdout",
          "text": [
            "1 ~ 100 숫자 입력 > 50\n",
            "Too high\n",
            "1 ~ 100 숫자 입력 > 25\n",
            "Too high\n",
            "1 ~ 100 숫자 입력 > 40\n",
            "Too high\n",
            "1 ~ 100 숫자 입력 > 33\n",
            "Too high\n",
            "1 ~ 100 숫자 입력 > 29\n",
            "Too high\n",
            "1 ~ 100 숫자 입력 > 27\n",
            "Too high\n",
            "1 ~ 100 숫자 입력 > 26\n",
            "Too high\n",
            "1 ~ 100 숫자 입력 > 25\n",
            "Too high\n",
            "1 ~ 100 숫자 입력 > 23\n",
            "Too high\n",
            "1 ~ 100 숫자 입력 > 22\n",
            "Too high\n",
            "1 ~ 100 숫자 입력 > 21\n",
            "Too high\n",
            "1 ~ 100 숫자 입력 > 20\n",
            "Too high\n",
            "1 ~ 100 숫자 입력 > 10\n",
            "Too high\n",
            "1 ~ 100 숫자 입력 > 5\n",
            "Too high\n",
            "1 ~ 100 숫자 입력 > 32\n",
            "Too high\n",
            "1 ~ 100 숫자 입력 > 3\n",
            "Too low\n",
            "1 ~ 100 숫자 입력 > 4\n",
            "Well done. you took 16 attempts\n"
          ]
        }
      ]
    }
  ]
}