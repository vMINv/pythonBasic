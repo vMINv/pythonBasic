{
  "nbformat": 4,
  "nbformat_minor": 0,
  "metadata": {
    "colab": {
      "provenance": [],
      "include_colab_link": true
    },
    "kernelspec": {
      "name": "python3",
      "display_name": "Python 3"
    },
    "language_info": {
      "name": "python"
    }
  },
  "cells": [
    {
      "cell_type": "markdown",
      "metadata": {
        "id": "view-in-github",
        "colab_type": "text"
      },
      "source": [
        "<a href=\"https://colab.research.google.com/github/vMINv/pythonBasic/blob/main/Pythonday2.ipynb\" target=\"_parent\"><img src=\"https://colab.research.google.com/assets/colab-badge.svg\" alt=\"Open In Colab\"/></a>"
      ]
    },
    {
      "cell_type": "code",
      "execution_count": null,
      "metadata": {
        "colab": {
          "base_uri": "https://localhost:8080/"
        },
        "id": "FCI1qf5mgrcv",
        "outputId": "55012a7a-8506-4b5d-9a02-43c93b16f169"
      },
      "outputs": [
        {
          "output_type": "execute_result",
          "data": {
            "text/plain": [
              "2"
            ]
          },
          "metadata": {},
          "execution_count": 1
        }
      ],
      "source": [
        "# 문자열 함수들(매서드들)\n",
        "\n",
        "\n",
        "# 문자 개수 세기 count\n",
        "\n",
        "a = \"school\"\n",
        "a.count('o')"
      ]
    },
    {
      "cell_type": "code",
      "source": [
        "# 위치 알아내기 (find) 만약 없는 문자를 찾는 경우 -1 출력\n",
        "\n",
        "a = \"school\"\n",
        "print(a.find('o'))\n",
        "print(a.find('z'))"
      ],
      "metadata": {
        "colab": {
          "base_uri": "https://localhost:8080/"
        },
        "id": "1ZUHeCqPhK-3",
        "outputId": "d62bb87f-d0d5-4d53-e91e-f8d29cdc849c"
      },
      "execution_count": null,
      "outputs": [
        {
          "output_type": "stream",
          "name": "stdout",
          "text": [
            "3\n",
            "-1\n"
          ]
        }
      ]
    },
    {
      "cell_type": "code",
      "source": [
        "# 위치 알아내기 (index) 만약 없는 문자를 찾는 경우 오류 출력\n",
        "\n",
        "a = \"school\"\n",
        "print(a.index('o'))\n",
        "# print(a.index('z'))"
      ],
      "metadata": {
        "colab": {
          "base_uri": "https://localhost:8080/"
        },
        "id": "n7YIHYtChevp",
        "outputId": "064bedcc-02e2-4cde-99fa-2c3b86a56751"
      },
      "execution_count": null,
      "outputs": [
        {
          "output_type": "stream",
          "name": "stdout",
          "text": [
            "3\n"
          ]
        }
      ]
    },
    {
      "cell_type": "code",
      "source": [
        "# 문자 삽입 join\n",
        "\n",
        "print(\" \".join(\"abcd\"))\n",
        "print(\",\".join(\"abcd\"))"
      ],
      "metadata": {
        "colab": {
          "base_uri": "https://localhost:8080/"
        },
        "id": "ClWdn7OaiN2v",
        "outputId": "e896bbe7-0232-408c-da2e-c8a186592cf8"
      },
      "execution_count": null,
      "outputs": [
        {
          "output_type": "stream",
          "name": "stdout",
          "text": [
            "a b c d\n",
            "a,b,c,d\n"
          ]
        }
      ]
    },
    {
      "cell_type": "code",
      "source": [
        "# 대문자로 바꾸기 upper\n",
        "\n",
        "a = 'Hello'\n",
        "\n",
        "a.upper()"
      ],
      "metadata": {
        "colab": {
          "base_uri": "https://localhost:8080/",
          "height": 35
        },
        "id": "55GOHV3JiifO",
        "outputId": "b76244bf-7afa-49b5-b740-01b317ba44fd"
      },
      "execution_count": null,
      "outputs": [
        {
          "output_type": "execute_result",
          "data": {
            "text/plain": [
              "'HELLO'"
            ],
            "application/vnd.google.colaboratory.intrinsic+json": {
              "type": "string"
            }
          },
          "metadata": {},
          "execution_count": 10
        }
      ]
    },
    {
      "cell_type": "code",
      "source": [
        "# 소문자로 바꾸기 lower\n",
        "\n",
        "a = 'Hello'\n",
        "\n",
        "a.lower()"
      ],
      "metadata": {
        "colab": {
          "base_uri": "https://localhost:8080/",
          "height": 35
        },
        "id": "LIpDYTnViuzn",
        "outputId": "c2a2e8bf-41d9-45ba-d843-89e6c778f5e4"
      },
      "execution_count": null,
      "outputs": [
        {
          "output_type": "execute_result",
          "data": {
            "text/plain": [
              "'hello'"
            ],
            "application/vnd.google.colaboratory.intrinsic+json": {
              "type": "string"
            }
          },
          "metadata": {},
          "execution_count": 11
        }
      ]
    },
    {
      "cell_type": "code",
      "source": [
        "# 공백 제거 왼쪽 lstrip\n",
        "a = ' Hello'\n",
        "a.lstrip()"
      ],
      "metadata": {
        "colab": {
          "base_uri": "https://localhost:8080/",
          "height": 35
        },
        "id": "MtF4zGW0i6dO",
        "outputId": "787bdda4-2214-4875-f87c-466247246c15"
      },
      "execution_count": null,
      "outputs": [
        {
          "output_type": "execute_result",
          "data": {
            "text/plain": [
              "'Hello'"
            ],
            "application/vnd.google.colaboratory.intrinsic+json": {
              "type": "string"
            }
          },
          "metadata": {},
          "execution_count": 12
        }
      ]
    },
    {
      "cell_type": "code",
      "source": [
        "# 공백 제거 오른쪽 rstrip\n",
        "\n",
        "a = 'Hello '\n",
        "a.rstrip()"
      ],
      "metadata": {
        "colab": {
          "base_uri": "https://localhost:8080/",
          "height": 35
        },
        "id": "eEVCtkspjM_n",
        "outputId": "3b557247-f856-4427-900f-acbed470ba3e"
      },
      "execution_count": null,
      "outputs": [
        {
          "output_type": "execute_result",
          "data": {
            "text/plain": [
              "'Hello'"
            ],
            "application/vnd.google.colaboratory.intrinsic+json": {
              "type": "string"
            }
          },
          "metadata": {},
          "execution_count": 13
        }
      ]
    },
    {
      "cell_type": "code",
      "source": [
        "# 공백 제거 오른쪽/왼쪽 strip\n",
        "\n",
        "a = ' Hello '\n",
        "a.strip()"
      ],
      "metadata": {
        "colab": {
          "base_uri": "https://localhost:8080/",
          "height": 35
        },
        "id": "um5akHJVjavI",
        "outputId": "d4f8f4ab-bc90-4365-f2b3-13db2d343fd2"
      },
      "execution_count": null,
      "outputs": [
        {
          "output_type": "execute_result",
          "data": {
            "text/plain": [
              "'Hello'"
            ],
            "application/vnd.google.colaboratory.intrinsic+json": {
              "type": "string"
            }
          },
          "metadata": {},
          "execution_count": 14
        }
      ]
    },
    {
      "cell_type": "code",
      "source": [
        "# 글자 바꾸기 replace\n",
        "\n",
        "a = 'I love you'\n",
        "a.replace('love', 'hate')"
      ],
      "metadata": {
        "colab": {
          "base_uri": "https://localhost:8080/",
          "height": 35
        },
        "id": "wFEWNOq4jhef",
        "outputId": "bf96dd00-1ac2-4eaf-ca05-909c6fb05d4f"
      },
      "execution_count": null,
      "outputs": [
        {
          "output_type": "execute_result",
          "data": {
            "text/plain": [
              "'I hate you'"
            ],
            "application/vnd.google.colaboratory.intrinsic+json": {
              "type": "string"
            }
          },
          "metadata": {},
          "execution_count": 15
        }
      ]
    },
    {
      "cell_type": "code",
      "source": [
        "# 문자열 나누기 split\n",
        "\n",
        "addr = \"서울시 강남구 서초동 1111\"\n",
        "print(addr.split())  # 생략하면 빈칸을 기준으로 분리한다. \n",
        "\n",
        "addr = \"서울시,강남구,서초동,1111\"\n",
        "print(addr.split(','))  # 생략하면 빈칸을 기준으로 분리한다. \n",
        "print(type(addr.split(','))) "
      ],
      "metadata": {
        "colab": {
          "base_uri": "https://localhost:8080/"
        },
        "id": "KjPgmIdvj4H3",
        "outputId": "e83a6a69-b1b1-469d-e04b-b5442deeb9d1"
      },
      "execution_count": null,
      "outputs": [
        {
          "output_type": "stream",
          "name": "stdout",
          "text": [
            "['서울시', '강남구', '서초동', '1111']\n",
            "['서울시', '강남구', '서초동', '1111']\n",
            "<class 'list'>\n"
          ]
        }
      ]
    },
    {
      "cell_type": "code",
      "source": [
        "# LIST, TUPLE, DICT, SET  \n",
        "# 여러 데이터들의 묶음 Collection 컬렉션\n",
        "\n",
        "# LIST \n",
        "#  [] 대괄호로 만든다.  \n",
        "#  indexing & slicing 이 가능하다. \n",
        "#  ordered 순서가 있다.\n",
        "#  mutable 수정 가능하다. \n",
        "\n",
        "\n"
      ],
      "metadata": {
        "id": "4UPwcpvKklZ8"
      },
      "execution_count": null,
      "outputs": []
    },
    {
      "cell_type": "code",
      "source": [
        "a = []\n",
        "b = [1,2,3]\n",
        "c = ['a','b','c']\n",
        "d = [1, 2, 'a', 'b']\n",
        "\n",
        "print(b[0])  #인덱싱\n",
        "print(c[1:]) #슬라이싱\n",
        "print(d[-1]) #마지막 요소는 -1\n",
        "\n",
        "# a[0] = 9   # a 리스트에는 아무 원소도 없어서 에러 발생\n",
        "b[0] = 9     # b 리스트는 원소가 있으므로 수정 가능\n",
        "print(b)\n",
        "\n",
        "print(c)\n",
        "del c[2]     # 리스트는 삭제가 가능하다. \n",
        "print(c)\n",
        "\n",
        "print(a)\n",
        "a.append(0)  # 리스트는 삽입이 가능하다. \n",
        "print(a)"
      ],
      "metadata": {
        "id": "sniZxrAIu0g-"
      },
      "execution_count": null,
      "outputs": []
    },
    {
      "cell_type": "code",
      "source": [
        "# 리스트에서 많이 사용되는 함수 정리\n",
        "\n",
        "# 요소 추가 append  마지막에 요소추가\n",
        "a.append(0)   \n",
        "print(a)\n",
        "a.append('a') \n",
        "print(a)\n",
        "\n",
        "# 요소 추가 insert 특정 위치를 지정하여 맘대로 요소 추가\n",
        "d = [1,2,3]\n",
        "d.insert(0,4)\n",
        "\n",
        "# 정렬 sort\n",
        "a = [1,3,2,4]\n",
        "a.sort()\n",
        "print(a)\n",
        "\n",
        "# 뒤집기 reverse\n",
        "a.reverse()\n",
        "print(a)\n",
        "\n",
        "# 인덱스 index\n",
        "a.index(3)\n",
        "# a.index(5)  없는 요소는 에러 발생한다. \n"
      ],
      "metadata": {
        "colab": {
          "base_uri": "https://localhost:8080/"
        },
        "id": "fr9ZlhDDu08s",
        "outputId": "b93f0d44-54de-4c3c-8534-e37f5512ccfb"
      },
      "execution_count": null,
      "outputs": [
        {
          "output_type": "stream",
          "name": "stdout",
          "text": [
            "[1, 3, 3, 5, 0]\n",
            "[1, 3, 3, 5, 0, 'a']\n",
            "[1, 2, 3, 4]\n",
            "[4, 3, 2, 1]\n",
            "\n",
            "[1, 2, 3, 5]\n"
          ]
        }
      ]
    },
    {
      "cell_type": "code",
      "source": [
        "\n",
        "# 삭제 remove  중복되는 수는 처음 등장하는 하나만 삭제한다. \n",
        "print()\n",
        "a = [1,2,3,3,5]\n",
        "a.remove(3)\n",
        "print(a)\n",
        "\n",
        "# 삭제 pop  리스트의 마지막 요소를 삭제한다. \n",
        "a = [1,2,3]\n",
        "a.pop()  # 괄호에 값이 없으면 마지막 요소를 하나 삭제\n",
        "print(a)\n",
        "\n",
        "a = [1,2,3]\n",
        "a.pop(0) # 괄호에 값이 있으면 그 요소를 삭제\n",
        "print(a)\n",
        "\n",
        "# 개수 세기 count  특정 요소의 갯수 세기\n",
        "\n",
        "a = [1,2,3,3]\n",
        "print(a.count(3))\n"
      ],
      "metadata": {
        "colab": {
          "base_uri": "https://localhost:8080/"
        },
        "id": "N_Np5QeTx_Nl",
        "outputId": "18db26cd-259c-4254-b5e5-05beae0ecdf9"
      },
      "execution_count": null,
      "outputs": [
        {
          "output_type": "stream",
          "name": "stdout",
          "text": [
            "\n",
            "[1, 2, 3, 5]\n",
            "[1, 2]\n",
            "[2, 3]\n",
            "2\n"
          ]
        }
      ]
    },
    {
      "cell_type": "code",
      "source": [
        "# TUPLE \n",
        "#  () 소괄호로 만든다.\n",
        "#  immutable 수정이 불가능하다.\n",
        "#  indexing & slicing 이 가능하다. \n",
        "#  ordered 순서가 있다.\n",
        "#  한 개의 요소로 tuple을 만들때는 (1,) 쉼표를 괜히 넣는다. \n",
        "\n",
        "a = ()\n",
        "b = (1,) #한 개의 요소로 tuple을 만들때는 (1,) 쉼표를 괜히 넣는다. \n",
        "c = (1,2,3)\n",
        "d = (1,2,'a','b')\n",
        "\n",
        "# del d[0]    immutable 삭제가 불가능하다. \n",
        "# d[0] = 9    immutable 수정이 불가능하다. \n",
        "# d.append(5) immutable 삽입이 불가능하다.  \n",
        "\n",
        "print(d[0])   # 인덱싱이 가능하다. \n",
        "print(d[0:2]) # 슬라이싱이 가능하다. 마지막은 미만으로 처리한다. \n",
        "\n",
        "print(len(d)) # 튜플 요소의 개수를 반환하는 함수\n"
      ],
      "metadata": {
        "colab": {
          "base_uri": "https://localhost:8080/"
        },
        "id": "FSHKEyAqx_QZ",
        "outputId": "b577979c-42c9-4262-8f3a-8530054591ca"
      },
      "execution_count": null,
      "outputs": [
        {
          "output_type": "stream",
          "name": "stdout",
          "text": [
            "1\n",
            "(1, 2)\n",
            "4\n"
          ]
        }
      ]
    },
    {
      "cell_type": "code",
      "source": [
        "# DICT\n",
        "#  {} 중괄호로 만든다. \n",
        "#  mutable 수정 가능하다. \n",
        "#  indexing & slicing 이 불가능하다.\n",
        "#  unordered 순서가 없다.\n",
        "#  키값과 밸류 값으로 데이터가 저장된다. \n",
        "\n",
        "# 세상의 많은 데이터가 키값:밸류값 형태로 표현된다. 이름:홍길동, 나이:20 \n",
        "# 이러한 대응 관계를 파이썬에서 데이터를 저장하는 방식을 딕셔너리라고 한다. \n",
        "# 마치 JS 의 JSON 과 상당히 유사한 공통점을 가지고 있다. \n",
        "\n",
        "a = {'이름':'홍길동', '나이':20}\n",
        "b = {'이름':'홍길동', '나이':20, '보유코인':['비트코인','에이다','이더리움']}\n",
        "\n",
        "a['키'] = 185   # dict 는 mutable 한 속성으로 삽입이 가능하다. \n",
        "print(a)\n",
        "del a['나이']   # dict 는 mutable 한 속성으로 삭제도 가능하다. \n",
        "print(a)\n",
        "a['키'] = 190   # dict 는 mutable 한 속성으로 수정도 가능하다. \n",
        "print(a)\n",
        "\n",
        "# a[0]          # dict 는 인덱싱이 불가능하다. \n",
        "# a[0:2]        # dict 는 슬라이싱이 불가능하다. "
      ],
      "metadata": {
        "colab": {
          "base_uri": "https://localhost:8080/"
        },
        "id": "dhGA8uCXx_TO",
        "outputId": "1bf562cf-1571-4fbe-8946-a2df7c59e1cd"
      },
      "execution_count": null,
      "outputs": [
        {
          "output_type": "stream",
          "name": "stdout",
          "text": [
            "{'이름': '홍길동', '나이': 20, '키': 185}\n",
            "{'이름': '홍길동', '키': 185}\n",
            "{'이름': '홍길동', '키': 190}\n"
          ]
        }
      ]
    },
    {
      "cell_type": "code",
      "source": [
        "# 딕셔너리에서 많이 사용되는 함수 정리\n",
        "# 딕셔너리에서 키값들만 추출\n",
        "\n",
        "a = {'이름':'홍길동', '나이':20, '보유코인':['비트코인','에이다','이더리움']}\n",
        "print(a.keys())\n",
        "\n",
        "# 딕셔너리에서 밸류값들만 추출\n",
        "print(a.values())\n",
        "\n",
        "# 쌍으로 추출  (튜플 쌍으로 추출)\n",
        "print(a.items())\n",
        "\n",
        "# 키값으로 밸류값 추출 \n",
        "print(a.get('이름'))\n",
        "print(a.get('몸무게'))  # 찾는 키값이 없을때 None 출력한다. \n",
        "\n",
        "# 키값으로 밸류값 추출 (인덱싱이 불가능하기 때문에 꺼낼때 많이 사용된다. )\n",
        "print(a['이름'])\n",
        "# print(a['몸무게'])      # 찾는 키값이 없을때 예외 발생된다. \n",
        "\n",
        "# 키가 딕셔너리안에 있는지 확인\n",
        "print('이름' in a)               # 찾는 키값이 있을때 true 반환\n",
        "print('몸무게' in a)             # 찾는 키값이 없을때 false 반환\n"
      ],
      "metadata": {
        "colab": {
          "base_uri": "https://localhost:8080/"
        },
        "id": "Td6qsOt18j1K",
        "outputId": "df1e41d7-8cbf-4630-fcf4-dc24112d3e25"
      },
      "execution_count": null,
      "outputs": [
        {
          "output_type": "stream",
          "name": "stdout",
          "text": [
            "dict_keys(['이름', '나이', '보유코인'])\n",
            "dict_values(['홍길동', 20, ['비트코인', '에이다', '이더리움']])\n",
            "dict_items([('이름', '홍길동'), ('나이', 20), ('보유코인', ['비트코인', '에이다', '이더리움'])])\n",
            "홍길동\n",
            "None\n",
            "홍길동\n",
            "True\n",
            "False\n"
          ]
        }
      ]
    },
    {
      "cell_type": "code",
      "source": [
        "# SET\n",
        "#  {} 중괄호로 만든다. \n",
        "#  mutable 수정 가능하다. \n",
        "#  indexing & slicing 이 불가능하다.\n",
        "#  unordered 순서가 없다.\n",
        "#  중복데이터를 허용하지 않는다. \n",
        "\n",
        "# a = {}  # 딕셔너리와 셋은 동일하게 {} 를 사용한다. 따라서 빈 값으로 생성할때는 주의하자. \n",
        "a = set()\n",
        "b = {1,2,3}\n",
        "c = {1,2,'a','b'}\n",
        "d = {1,2,2,2,3,4,4}\n",
        "print(d)\n",
        "\n",
        "a.add(0)     # mutable 삽입 가능하다.\n",
        "print(a)\n",
        "print(c)\n",
        "c.remove(2)  # mutable 삭제 가능하다.\n",
        "print(c)"
      ],
      "metadata": {
        "colab": {
          "base_uri": "https://localhost:8080/"
        },
        "id": "O5kqSJDMu0_c",
        "outputId": "dc0d11c2-d584-4e5c-f098-24ff74e86786"
      },
      "execution_count": null,
      "outputs": [
        {
          "output_type": "stream",
          "name": "stdout",
          "text": [
            "{1, 2, 3, 4}\n",
            "{0}\n",
            "{'b', 1, 2, 'a'}\n",
            "{'b', 1, 'a'}\n"
          ]
        }
      ]
    },
    {
      "cell_type": "code",
      "source": [
        "# 불 Bool 자료형 boolean\n",
        "\n",
        "# 반드시 대문자로 시작한다. \n",
        "\n",
        "a = True\n",
        "b = False\n",
        "c = \"true\"\n",
        "\n",
        "print(type(a))\n",
        "print(type(c))\n",
        "\n",
        "print(1 == 1)\n",
        "print(1 != 1)"
      ],
      "metadata": {
        "colab": {
          "base_uri": "https://localhost:8080/"
        },
        "id": "XwwzUChAEbB0",
        "outputId": "fa95ac12-6057-4651-f508-75743408c1b3"
      },
      "execution_count": null,
      "outputs": [
        {
          "output_type": "stream",
          "name": "stdout",
          "text": [
            "<class 'bool'>\n",
            "<class 'str'>\n",
            "True\n",
            "False\n"
          ]
        }
      ]
    },
    {
      "cell_type": "code",
      "source": [
        "# 키보드로 입력 받기 \n",
        "\n",
        "a = input()\n",
        "print(a)"
      ],
      "metadata": {
        "colab": {
          "base_uri": "https://localhost:8080/"
        },
        "id": "_pfyKf-iFCDy",
        "outputId": "fc2b0796-2e48-4d44-b802-3bfa44e5b841"
      },
      "execution_count": null,
      "outputs": [
        {
          "output_type": "stream",
          "name": "stdout",
          "text": [
            "하이\n",
            "하이\n"
          ]
        }
      ]
    },
    {
      "cell_type": "code",
      "source": [
        "a = input(\"지금이 오후인가요?\")\n",
        "print(a)"
      ],
      "metadata": {
        "colab": {
          "base_uri": "https://localhost:8080/"
        },
        "id": "KF2x62TJEotT",
        "outputId": "d98b9b5f-4308-4d3a-a9c6-2da369882555"
      },
      "execution_count": null,
      "outputs": [
        {
          "output_type": "stream",
          "name": "stdout",
          "text": [
            "지금이 오후인가요?네네\n",
            "네네\n"
          ]
        }
      ]
    },
    {
      "cell_type": "code",
      "source": [
        "# 파이썬에서 input 은 항상 일단 먼저 모두 문자 취급한다. \n",
        "\n",
        "#a = input(\"지금이 몇시에요\")\n",
        "#print(a+1)\n",
        "\n",
        "a = int(input(\"지금 부터 한시간 뒤는 몇 시 인가요\"))\n",
        "print(a+1)"
      ],
      "metadata": {
        "colab": {
          "base_uri": "https://localhost:8080/"
        },
        "id": "qb5ApkKLFevK",
        "outputId": "33167746-2427-4381-d2f1-e709b29149bc"
      },
      "execution_count": null,
      "outputs": [
        {
          "output_type": "stream",
          "name": "stdout",
          "text": [
            "지금이 몇시에요3\n",
            "4\n"
          ]
        }
      ]
    },
    {
      "cell_type": "code",
      "source": [
        "dict = {}\n",
        "\n",
        "q1 = input(\"food u like :\")\n",
        "dict[1]= q1\n",
        "\n",
        "q2 = input(\"food u like :\")\n",
        "dict[2]= q2\n",
        "\n",
        "q3 = input(\"food u like :\")\n",
        "dict[3]= q3\n",
        "\n",
        "q4 = input(\"food u like :\")\n",
        "dict[4]= q4\n",
        "\n",
        "print(dict)"
      ],
      "metadata": {
        "colab": {
          "base_uri": "https://localhost:8080/"
        },
        "id": "YWUrT0BrLXIT",
        "outputId": "9d5aecc7-6618-4c00-f794-c282bccf9ea4"
      },
      "execution_count": null,
      "outputs": [
        {
          "output_type": "stream",
          "name": "stdout",
          "text": [
            "food u like :커피\n",
            "food u like :밥\n",
            "food u like :콜라\n",
            "food u like :라면\n",
            "{1: '커피', 2: '밥', 3: '콜라', 4: '라면'}\n"
          ]
        }
      ]
    }
  ]
}