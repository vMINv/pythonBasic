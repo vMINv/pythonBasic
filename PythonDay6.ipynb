{
  "nbformat": 4,
  "nbformat_minor": 0,
  "metadata": {
    "colab": {
      "provenance": [],
      "include_colab_link": true
    },
    "kernelspec": {
      "name": "python3",
      "display_name": "Python 3"
    },
    "language_info": {
      "name": "python"
    }
  },
  "cells": [
    {
      "cell_type": "markdown",
      "metadata": {
        "id": "view-in-github",
        "colab_type": "text"
      },
      "source": [
        "<a href=\"https://colab.research.google.com/github/vMINv/pythonBasic/blob/main/PythonDay6.ipynb\" target=\"_parent\"><img src=\"https://colab.research.google.com/assets/colab-badge.svg\" alt=\"Open In Colab\"/></a>"
      ]
    },
    {
      "cell_type": "code",
      "execution_count": null,
      "metadata": {
        "id": "zfbmF0Fbhwhq",
        "colab": {
          "base_uri": "https://localhost:8080/"
        },
        "outputId": "8bcd1a0b-08d1-414f-dd49-ebdb85bb2243"
      },
      "outputs": [
        {
          "output_type": "execute_result",
          "data": {
            "text/plain": [
              "5"
            ]
          },
          "metadata": {},
          "execution_count": 4
        }
      ],
      "source": [
        "# Inheritance  상속\n",
        "\n",
        "# 실세계와 동일한 의미로 사용된다. 마치 재산을 상속받는 것처럼 같은 의미이다. \n",
        "# 즉 다른 클래스의 기능을 물려받아 사용할수 있다. \n",
        "\n",
        "\n",
        "class BigCal:\n",
        "\n",
        "  def __init__(self, first, second):\n",
        "    self.first = first\n",
        "    self.second = second\n",
        "\n",
        "  def add(self):\n",
        "    result = self.first + self.second\n",
        "    return result\n",
        "\n",
        "  def sub(self):\n",
        "    result = self.first - self.second\n",
        "    return result\n",
        "\n",
        "  def mul(self):\n",
        "    result = self.first * self.second\n",
        "    return result\n",
        "\n",
        "  def div(self):\n",
        "    result = self.first / self.second\n",
        "    return result\n",
        "\n",
        "class SmallCal(BigCal):\n",
        "  pass\n",
        "\n",
        "sc1 = SmallCal(3,2)  # sc1은 SmallCal로 생성하기 때문에 SmallCal 은 BigCal을 상속하기 때문에 \n",
        "                     # BigCal 의 생성자의 규칙에 맞게 생성해야 한다. \n",
        "\n",
        "sc1.add()\n"
      ]
    },
    {
      "cell_type": "code",
      "source": [
        "# 왜 상속을 사용할까...\n",
        "\n",
        "# 보통 상속을 사용하면 기존 클래스는 그대로 놔두고 기능을 추가하거나 또는 기존 기능을 변경\n",
        "# 하고자 할때 사용된다. \n",
        "\n",
        "# 그냥 원래 클래스를 변경하면 되지 않을까...라고 생각할수 있으나 고급 사용방식에서는 기존 클래스가\n",
        "# 라이브러리 형태로 제공되기 때문에 수정이 허용되지 않는 상황이 발생하게 된다. \n",
        "\n",
        "class MidCal(BigCal):\n",
        "  def pow(self):  # 기존 BigCal 에는 사칙연산만 있었으나 거기다가 제곱을 계산하는 기능 추가\n",
        "    result =self.first ** self.second\n",
        "    return result\n",
        "\n",
        "cal1 = BigCal(2,3)\n",
        "#cal1.pow()  # 부모가 자식의 자원을 사용할수는 없다. \n",
        "print(cal1.add())\n",
        "\n",
        "\n",
        "cal2 = MidCal(2,3)\n",
        "print(cal2.pow())\n",
        "print(cal2.add())  # 자식은 부모의 자원을 가져다가 쓴다. \n",
        "\n",
        "# 상속은 기존 클래스의 내용은 그대로 두고 클래스의 기능을 확장시킬때 주로 사용된다. \n",
        "\n"
      ],
      "metadata": {
        "colab": {
          "base_uri": "https://localhost:8080/"
        },
        "id": "N10E5iZ3kzYT",
        "outputId": "77597aa5-9e23-43b4-d638-e9c7068698f4"
      },
      "execution_count": null,
      "outputs": [
        {
          "output_type": "stream",
          "name": "stdout",
          "text": [
            "5\n",
            "8\n",
            "5\n"
          ]
        }
      ]
    },
    {
      "cell_type": "code",
      "source": [
        "# 파이썬 은 자바와는 달리 다중상속을 지원한다. \n",
        "\n",
        "class A():\n",
        "  pass\n",
        "\n",
        "class B():\n",
        "  pass\n",
        "\n",
        "class C(A,B):\n",
        "  pass\n",
        "\n"
      ],
      "metadata": {
        "id": "uf-jBWzCm8Sg"
      },
      "execution_count": null,
      "outputs": []
    },
    {
      "cell_type": "code",
      "source": [
        "# 매서드 오버라이딩\n",
        "\n",
        "class BigCal:\n",
        "\n",
        "  def __init__(self, first, second):\n",
        "    self.first = first\n",
        "    self.second = second\n",
        "\n",
        "  def add(self):\n",
        "    result = self.first + self.second\n",
        "    return result\n",
        "\n",
        "  def sub(self):\n",
        "    result = self.first - self.second\n",
        "    return result\n",
        "\n",
        "  def mul(self):\n",
        "    result = self.first * self.second\n",
        "    return result\n",
        "\n",
        "  def div(self):\n",
        "    result = self.first / self.second\n",
        "    return result\n",
        "\n",
        "a = BigCal(2,3)\n",
        "print(a.div())\n",
        "\n",
        "b = BigCal(2,0)  \n",
        "# print(b.div())   #ZeroDivisionError: division by zero"
      ],
      "metadata": {
        "colab": {
          "base_uri": "https://localhost:8080/"
        },
        "id": "iET8CJajlYxt",
        "outputId": "b8b12bdc-2da9-416e-bbbd-44d3fc673daa"
      },
      "execution_count": null,
      "outputs": [
        {
          "output_type": "stream",
          "name": "stdout",
          "text": [
            "0.6666666666666666\n"
          ]
        }
      ]
    },
    {
      "cell_type": "code",
      "source": [
        "# 매서드 오버 라이딩\n",
        "\n",
        "class OkCal(BigCal):\n",
        "  def div(self):  # 부모 클래스의 div 매서드가 무시되고 자식의 같은 이름의 매서드가 사용된다. \n",
        "    if self.second == 0:\n",
        "      print('0으로는 나눌수 없습니다.')\n",
        "      return \"\"\n",
        "    else:\n",
        "      return self.first / self.second\n",
        "\n",
        "c = OkCal(2,0)\n",
        "print(c.div())"
      ],
      "metadata": {
        "colab": {
          "base_uri": "https://localhost:8080/"
        },
        "id": "QGVpK87EoWUo",
        "outputId": "6e5e5b6f-3c8c-40b9-9075-244568373ce9"
      },
      "execution_count": null,
      "outputs": [
        {
          "output_type": "stream",
          "name": "stdout",
          "text": [
            "0으로는 나눌수 없습니다.\n",
            "\n"
          ]
        }
      ]
    },
    {
      "cell_type": "code",
      "source": [
        "# 클래스 변수 \n",
        "\n",
        "# 객체 변수는 다른 객체들의 영향을 받지 않고 독립적으로 그 값을 유지한다는 \n",
        "# 특징이 있음을 할수 있었다. 그렇지만 객체변수와는 그 성격이 완전히 다른 클래스 변수도 있다. \n",
        "\n",
        "class Family:\n",
        "  lastname = \"김\"\n",
        "# 클래스 변수는 공유된다. \n",
        "\n",
        "a = Family()\n",
        "b = Family()\n",
        "print(a.lastname)\n",
        "print(b.lastname)\n",
        "print(Family.lastname)"
      ],
      "metadata": {
        "colab": {
          "base_uri": "https://localhost:8080/"
        },
        "id": "DhaykZGppugm",
        "outputId": "8d80bbd2-2f65-4b45-8c78-3b3456d01e95"
      },
      "execution_count": null,
      "outputs": [
        {
          "output_type": "stream",
          "name": "stdout",
          "text": [
            "김\n",
            "김\n",
            "김\n"
          ]
        }
      ]
    },
    {
      "cell_type": "code",
      "source": [
        "Family.lastname = \"박\"\n"
      ],
      "metadata": {
        "id": "riun_YD7rCnm"
      },
      "execution_count": null,
      "outputs": []
    },
    {
      "cell_type": "code",
      "source": [
        "print(a.lastname)\n",
        "print(b.lastname)\n",
        "\n",
        "# 클래스 변수는 중요하게 쓰이지 않는다. 객체변수가 풜씬 중요하다. \n",
        "# 실무에서도 클래스 변수보다 객체변수를 사용하는 비율이 훨씬 많다. "
      ],
      "metadata": {
        "id": "VyedX0vJic3j",
        "colab": {
          "base_uri": "https://localhost:8080/"
        },
        "outputId": "84698b0f-d04d-43ab-b9eb-b8bbde61c7e1"
      },
      "execution_count": null,
      "outputs": [
        {
          "output_type": "stream",
          "name": "stdout",
          "text": [
            "박\n",
            "박\n"
          ]
        }
      ]
    },
    {
      "cell_type": "code",
      "source": [
        "# 예외 처리 Exeption\n",
        "\n",
        "# 프로그램을 만들다 보면 수많은 오류 / 예외 / 에러 가 발생된다. \n",
        "# 오류는 프로그램이 잘못 동작하는 것을 사전에 막아주는 일종의 배려로 볼수도 있다. \n",
        "# 오류 즉 예외를 어떻게 파이썬은 처리하는지 살펴 보자. \n",
        "\n",
        "# 파이썬에서 자주 접하게 되는 예외\n",
        "# ZeroDevisionError  0으로 나누는 예외\n",
        "# IndexError   없는 인덱스를 호출하였을때 발생 \n"
      ],
      "metadata": {
        "id": "DT-Ki21PsHC6"
      },
      "execution_count": null,
      "outputs": []
    },
    {
      "cell_type": "code",
      "source": [
        "# ZeroDevisionError  0으로 나누는 예외\n",
        "4 / 0"
      ],
      "metadata": {
        "colab": {
          "base_uri": "https://localhost:8080/",
          "height": 176
        },
        "id": "ERdLunuOxvAd",
        "outputId": "5a504877-93e7-436b-b14a-8ee61bbb7683"
      },
      "execution_count": null,
      "outputs": [
        {
          "output_type": "error",
          "ename": "ZeroDivisionError",
          "evalue": "ignored",
          "traceback": [
            "\u001b[0;31m---------------------------------------------------------------------------\u001b[0m",
            "\u001b[0;31mZeroDivisionError\u001b[0m                         Traceback (most recent call last)",
            "\u001b[0;32m<ipython-input-22-87ac9c94a8c2>\u001b[0m in \u001b[0;36m<module>\u001b[0;34m\u001b[0m\n\u001b[0;32m----> 1\u001b[0;31m \u001b[0;36m4\u001b[0m \u001b[0;34m/\u001b[0m \u001b[0;36m0\u001b[0m\u001b[0;34m\u001b[0m\u001b[0;34m\u001b[0m\u001b[0m\n\u001b[0m",
            "\u001b[0;31mZeroDivisionError\u001b[0m: division by zero"
          ]
        }
      ]
    },
    {
      "cell_type": "code",
      "source": [
        "# IndexError   없는 인덱스를 호출하였을때 발생 \n",
        "l1 = [1,2,3,4,5]\n",
        "a[5]"
      ],
      "metadata": {
        "colab": {
          "base_uri": "https://localhost:8080/",
          "height": 213
        },
        "id": "eV62tkcnx2Nc",
        "outputId": "4a0ebd1e-aec9-47ac-d9f5-5e149701481a"
      },
      "execution_count": null,
      "outputs": [
        {
          "output_type": "error",
          "ename": "TypeError",
          "evalue": "ignored",
          "traceback": [
            "\u001b[0;31m---------------------------------------------------------------------------\u001b[0m",
            "\u001b[0;31mTypeError\u001b[0m                                 Traceback (most recent call last)",
            "\u001b[0;32m<ipython-input-23-64daad1f8cd8>\u001b[0m in \u001b[0;36m<module>\u001b[0;34m\u001b[0m\n\u001b[1;32m      1\u001b[0m \u001b[0;31m# IndexError   없는 인덱스를 호출하였을때 발생\u001b[0m\u001b[0;34m\u001b[0m\u001b[0;34m\u001b[0m\u001b[0;34m\u001b[0m\u001b[0m\n\u001b[1;32m      2\u001b[0m \u001b[0ml1\u001b[0m \u001b[0;34m=\u001b[0m \u001b[0;34m[\u001b[0m\u001b[0;36m1\u001b[0m\u001b[0;34m,\u001b[0m\u001b[0;36m2\u001b[0m\u001b[0;34m,\u001b[0m\u001b[0;36m3\u001b[0m\u001b[0;34m,\u001b[0m\u001b[0;36m4\u001b[0m\u001b[0;34m,\u001b[0m\u001b[0;36m5\u001b[0m\u001b[0;34m]\u001b[0m\u001b[0;34m\u001b[0m\u001b[0;34m\u001b[0m\u001b[0m\n\u001b[0;32m----> 3\u001b[0;31m \u001b[0ma\u001b[0m\u001b[0;34m[\u001b[0m\u001b[0;36m5\u001b[0m\u001b[0;34m]\u001b[0m\u001b[0;34m\u001b[0m\u001b[0;34m\u001b[0m\u001b[0m\n\u001b[0m",
            "\u001b[0;31mTypeError\u001b[0m: 'Family' object is not subscriptable"
          ]
        }
      ]
    },
    {
      "cell_type": "code",
      "source": [
        "# 파이썬에서의 예외 처리 기본\n",
        "\n",
        "# try:\n",
        "#   수행구문\n",
        "# except:\n",
        "#   예외 발생 시 처리 구문\n",
        "\n",
        "try:\n",
        "  print(4 / 0)\n",
        "except:    # 모든 예외 처리\n",
        "  print('0으로는 나눌 수 없습니다. ')"
      ],
      "metadata": {
        "colab": {
          "base_uri": "https://localhost:8080/"
        },
        "id": "vrgx88mlyG2i",
        "outputId": "e0c09181-a6f4-4cb5-be75-0d1fae4cf501"
      },
      "execution_count": null,
      "outputs": [
        {
          "output_type": "stream",
          "name": "stdout",
          "text": [
            "0으로는 나눌 수 없습니다. \n"
          ]
        }
      ]
    },
    {
      "cell_type": "code",
      "source": [
        "try:\n",
        "  print(4 / 0)\n",
        "except ZeroDivisionError:  # 특정 에러 처리\n",
        "  print('0으로는 나눌 수 없습니다. ')"
      ],
      "metadata": {
        "colab": {
          "base_uri": "https://localhost:8080/"
        },
        "id": "FPxYHOzvyvHB",
        "outputId": "b36c3119-1281-407a-b00b-452eef59999c"
      },
      "execution_count": null,
      "outputs": [
        {
          "output_type": "stream",
          "name": "stdout",
          "text": [
            "0으로는 나눌 수 없습니다. \n"
          ]
        }
      ]
    },
    {
      "cell_type": "code",
      "source": [
        "try:\n",
        "  print(4 / 0)\n",
        "except ZeroDivisionError as e:  # 특정 에러 를 e변수에 담는다. \n",
        "  print(e)"
      ],
      "metadata": {
        "colab": {
          "base_uri": "https://localhost:8080/"
        },
        "id": "ebWXTbEszFhi",
        "outputId": "29b11e65-233a-4b98-fa14-f10bcc3d4822"
      },
      "execution_count": null,
      "outputs": [
        {
          "output_type": "stream",
          "name": "stdout",
          "text": [
            "division by zero\n"
          ]
        }
      ]
    },
    {
      "cell_type": "code",
      "source": [
        "# finally\n",
        "\n",
        "try:\n",
        "  print(4 / 2)\n",
        "except ZeroDivisionError as e:  # 특정 에러 를 e변수에 담는다. \n",
        "  print(e)\n",
        "finally:   # 예외 발생의 여부와는 관계없이 항상 마지막에 거친다.\n",
        "  print('프로그램을 종료합니다. ')"
      ],
      "metadata": {
        "colab": {
          "base_uri": "https://localhost:8080/"
        },
        "id": "EJKT3liGzSTB",
        "outputId": "ffb12d6e-7ea4-46fc-91c9-50b22fbae894"
      },
      "execution_count": null,
      "outputs": [
        {
          "output_type": "stream",
          "name": "stdout",
          "text": [
            "2.0\n",
            "프로그램을 종료합니다. \n"
          ]
        }
      ]
    },
    {
      "cell_type": "code",
      "source": [
        "# 여러 예외 처리\n",
        "\n",
        "try:\n",
        "  a = [1,2,3,4,5]\n",
        "  print(a[5])\n",
        "  4/0\n",
        "except ZeroDivisionError:\n",
        "  print('0으로는 나눌수 없습니다.')\n",
        "except IndexError:\n",
        "  print('인덱싱 할수 없습니다.')\n",
        "\n",
        "  # 인덱싱 오류가 먼저 발생했기 때문에 4/0 오류는 아예 실행도 되지 않는다. \n"
      ],
      "metadata": {
        "colab": {
          "base_uri": "https://localhost:8080/"
        },
        "id": "OGC9wRxvzuo-",
        "outputId": "f039856a-93cb-4486-8c28-7479f4901338"
      },
      "execution_count": null,
      "outputs": [
        {
          "output_type": "stream",
          "name": "stdout",
          "text": [
            "인덱싱 할수 없습니다.\n"
          ]
        }
      ]
    },
    {
      "cell_type": "code",
      "source": [
        "try:\n",
        "  a = [1,2,3,4,5]\n",
        "  print(a[5])\n",
        "  4/0\n",
        "except (ZeroDivisionError,IndexError) as e:\n",
        "  print(e)\n"
      ],
      "metadata": {
        "colab": {
          "base_uri": "https://localhost:8080/"
        },
        "id": "QfvQZCD-zyt1",
        "outputId": "f1a456e4-93b9-433f-e238-c963b8a451f2"
      },
      "execution_count": null,
      "outputs": [
        {
          "output_type": "stream",
          "name": "stdout",
          "text": [
            "list index out of range\n"
          ]
        }
      ]
    },
    {
      "cell_type": "code",
      "source": [
        "# try else\n",
        "\n",
        "try:\n",
        "  실행구문\n",
        "except:\n",
        "  예외 발생시 처리 구문\n",
        "else:\n",
        "  오류가 없을때만 실행되는 구문\n",
        "finally:\n",
        "  실행구문\n",
        "\n",
        "\n",
        "예외 발생시 try -> except ->Finally\n",
        "예외 미발생 try -?> else ->Finally\n",
        "\n"
      ],
      "metadata": {
        "id": "rEu3ZeMH06sx"
      },
      "execution_count": null,
      "outputs": []
    },
    {
      "cell_type": "code",
      "source": [
        "# 오류 발생시키기\n",
        "\n",
        "class Bird:\n",
        "  def fly(self):\n",
        "    raise NotImplementedError \n",
        "    \n",
        "    # 파이썬에 미리 정의된 에러로 꼭 작성해야 하는 부분이 구현되지 않았을 경우\n",
        "    # 일부러 예외 상황이 아닌 생태에서도 예외 강재 발생\n",
        "\n",
        "\n",
        "\n",
        "class Eagle(Bird):\n",
        "  pass\n",
        "\n",
        "\n",
        "eagle = Eagle()\n",
        "eagle.fly()\n",
        "\n",
        "\n"
      ],
      "metadata": {
        "colab": {
          "base_uri": "https://localhost:8080/",
          "height": 381
        },
        "id": "pIipdgMR1wf-",
        "outputId": "0c4a3e37-023c-4f4f-87a1-14d25f554bfb"
      },
      "execution_count": null,
      "outputs": [
        {
          "output_type": "error",
          "ename": "NotImplementedError",
          "evalue": "ignored",
          "traceback": [
            "\u001b[0;31m---------------------------------------------------------------------------\u001b[0m",
            "\u001b[0;31mNotImplementedError\u001b[0m                       Traceback (most recent call last)",
            "\u001b[0;32m<ipython-input-36-cf5afe71b9f8>\u001b[0m in \u001b[0;36m<module>\u001b[0;34m\u001b[0m\n\u001b[1;32m     11\u001b[0m \u001b[0;34m\u001b[0m\u001b[0m\n\u001b[1;32m     12\u001b[0m \u001b[0meagle\u001b[0m \u001b[0;34m=\u001b[0m \u001b[0mEagle\u001b[0m\u001b[0;34m(\u001b[0m\u001b[0;34m)\u001b[0m\u001b[0;34m\u001b[0m\u001b[0;34m\u001b[0m\u001b[0m\n\u001b[0;32m---> 13\u001b[0;31m \u001b[0meagle\u001b[0m\u001b[0;34m.\u001b[0m\u001b[0mfly\u001b[0m\u001b[0;34m(\u001b[0m\u001b[0;34m)\u001b[0m\u001b[0;34m\u001b[0m\u001b[0;34m\u001b[0m\u001b[0m\n\u001b[0m\u001b[1;32m     14\u001b[0m \u001b[0;34m\u001b[0m\u001b[0m\n\u001b[1;32m     15\u001b[0m \u001b[0;34m\u001b[0m\u001b[0m\n",
            "\u001b[0;32m<ipython-input-36-cf5afe71b9f8>\u001b[0m in \u001b[0;36mfly\u001b[0;34m(self)\u001b[0m\n\u001b[1;32m      3\u001b[0m \u001b[0;32mclass\u001b[0m \u001b[0mBird\u001b[0m\u001b[0;34m:\u001b[0m\u001b[0;34m\u001b[0m\u001b[0;34m\u001b[0m\u001b[0m\n\u001b[1;32m      4\u001b[0m   \u001b[0;32mdef\u001b[0m \u001b[0mfly\u001b[0m\u001b[0;34m(\u001b[0m\u001b[0mself\u001b[0m\u001b[0;34m)\u001b[0m\u001b[0;34m:\u001b[0m\u001b[0;34m\u001b[0m\u001b[0;34m\u001b[0m\u001b[0m\n\u001b[0;32m----> 5\u001b[0;31m     \u001b[0;32mraise\u001b[0m \u001b[0mNotImplementedError\u001b[0m\u001b[0;34m\u001b[0m\u001b[0;34m\u001b[0m\u001b[0m\n\u001b[0m\u001b[1;32m      6\u001b[0m \u001b[0;34m\u001b[0m\u001b[0m\n\u001b[1;32m      7\u001b[0m \u001b[0;34m\u001b[0m\u001b[0m\n",
            "\u001b[0;31mNotImplementedError\u001b[0m: "
          ]
        }
      ]
    },
    {
      "cell_type": "code",
      "source": [
        "# 예외 만들기\n",
        "\n",
        "class MyError(Exception):  # 파이썬 내장 클래스를 상속\n",
        "  pass\n",
        "\n",
        "def say_nick(nick):\n",
        "  if nick  ==  \"바보\":\n",
        "    raise MyError()\n",
        "  print(nick)\n",
        "  return\n",
        "\n",
        "print(say_nick(\"천사\"))\n",
        "print(say_nick(\"바보\"))"
      ],
      "metadata": {
        "colab": {
          "base_uri": "https://localhost:8080/",
          "height": 381
        },
        "id": "BAmPjxLZ3fEi",
        "outputId": "84411fc6-62c6-4bde-db04-cf1e793c409d"
      },
      "execution_count": null,
      "outputs": [
        {
          "output_type": "stream",
          "name": "stdout",
          "text": [
            "천사\n",
            "None\n"
          ]
        },
        {
          "output_type": "error",
          "ename": "MyError",
          "evalue": "ignored",
          "traceback": [
            "\u001b[0;31m---------------------------------------------------------------------------\u001b[0m",
            "\u001b[0;31mMyError\u001b[0m                                   Traceback (most recent call last)",
            "\u001b[0;32m<ipython-input-39-5c144904c7c7>\u001b[0m in \u001b[0;36m<module>\u001b[0;34m\u001b[0m\n\u001b[1;32m     11\u001b[0m \u001b[0;34m\u001b[0m\u001b[0m\n\u001b[1;32m     12\u001b[0m \u001b[0mprint\u001b[0m\u001b[0;34m(\u001b[0m\u001b[0msay_nick\u001b[0m\u001b[0;34m(\u001b[0m\u001b[0;34m\"천사\"\u001b[0m\u001b[0;34m)\u001b[0m\u001b[0;34m)\u001b[0m\u001b[0;34m\u001b[0m\u001b[0;34m\u001b[0m\u001b[0m\n\u001b[0;32m---> 13\u001b[0;31m \u001b[0mprint\u001b[0m\u001b[0;34m(\u001b[0m\u001b[0msay_nick\u001b[0m\u001b[0;34m(\u001b[0m\u001b[0;34m\"바보\"\u001b[0m\u001b[0;34m)\u001b[0m\u001b[0;34m)\u001b[0m\u001b[0;34m\u001b[0m\u001b[0;34m\u001b[0m\u001b[0m\n\u001b[0m",
            "\u001b[0;32m<ipython-input-39-5c144904c7c7>\u001b[0m in \u001b[0;36msay_nick\u001b[0;34m(nick)\u001b[0m\n\u001b[1;32m      6\u001b[0m \u001b[0;32mdef\u001b[0m \u001b[0msay_nick\u001b[0m\u001b[0;34m(\u001b[0m\u001b[0mnick\u001b[0m\u001b[0;34m)\u001b[0m\u001b[0;34m:\u001b[0m\u001b[0;34m\u001b[0m\u001b[0;34m\u001b[0m\u001b[0m\n\u001b[1;32m      7\u001b[0m   \u001b[0;32mif\u001b[0m \u001b[0mnick\u001b[0m  \u001b[0;34m==\u001b[0m  \u001b[0;34m\"바보\"\u001b[0m\u001b[0;34m:\u001b[0m\u001b[0;34m\u001b[0m\u001b[0;34m\u001b[0m\u001b[0m\n\u001b[0;32m----> 8\u001b[0;31m     \u001b[0;32mraise\u001b[0m \u001b[0mMyError\u001b[0m\u001b[0;34m(\u001b[0m\u001b[0;34m)\u001b[0m\u001b[0;34m\u001b[0m\u001b[0;34m\u001b[0m\u001b[0m\n\u001b[0m\u001b[1;32m      9\u001b[0m   \u001b[0mprint\u001b[0m\u001b[0;34m(\u001b[0m\u001b[0mnick\u001b[0m\u001b[0;34m)\u001b[0m\u001b[0;34m\u001b[0m\u001b[0;34m\u001b[0m\u001b[0m\n\u001b[1;32m     10\u001b[0m   \u001b[0;32mreturn\u001b[0m\u001b[0;34m\u001b[0m\u001b[0;34m\u001b[0m\u001b[0m\n",
            "\u001b[0;31mMyError\u001b[0m: "
          ]
        }
      ]
    },
    {
      "cell_type": "code",
      "source": [
        "# q1 사용자에게 숫자를 입력받아서 그 값을 num 이라는 변수에 저장하는 함수를 만드세요\n",
        "#    그리고 num을 사용하여 1 부터 num에 저장된 숫자까지 인쇄하는 또 다른 함수를 정의하세요\n",
        "#    Hint : 함수 3개가 필요 실행을 위한 함수 \n",
        "\n",
        "\n",
        "def input_num():\n",
        "  num = int(input(\"숫자를 하나 입력하세요 >\"))\n",
        "  return num\n",
        "\n",
        "def count(num):\n",
        "  n = 1\n",
        "  while n <= num:\n",
        "    print(n, end=\" \")\n",
        "    n += 1\n",
        "\n",
        "def main():\n",
        "  num = input_num()\n",
        "  count(num)\n",
        "\n",
        "main()\n"
      ],
      "metadata": {
        "colab": {
          "base_uri": "https://localhost:8080/"
        },
        "id": "0U_YyoT65K3g",
        "outputId": "b0355a36-afa6-4b23-99e0-c0f3415b88b8"
      },
      "execution_count": null,
      "outputs": [
        {
          "output_type": "stream",
          "name": "stdout",
          "text": [
            "숫자를 하나 입력하세요 >7\n",
            "1 2 3 4 5 6 7 "
          ]
        }
      ]
    },
    {
      "cell_type": "code",
      "source": [
        "num2 = int(input(\"숫자를 하나 입력하세요 >\"))\n",
        "\n",
        "n = 1\n",
        "while n <= num2:\n",
        "  print(n, end=\" \")\n",
        "  n += 1"
      ],
      "metadata": {
        "colab": {
          "base_uri": "https://localhost:8080/"
        },
        "id": "AcdJv6Hh89eq",
        "outputId": "c20966e4-a15f-4120-e397-f9f767a307f6"
      },
      "execution_count": null,
      "outputs": [
        {
          "output_type": "stream",
          "name": "stdout",
          "text": [
            "숫자를 하나 입력하세요 >7\n",
            "1 2 3 4 5 6 7 "
          ]
        }
      ]
    },
    {
      "cell_type": "code",
      "source": [
        "# 낮은 숫자와 높은 숫자를 입력받아 \n",
        "# 두 값 사이의 임의의 숫자를 생성하여 comp_num 이르는 변수에 저장하는 pick_num 함수를 정의하세요.\n",
        "\n",
        "# '하나의 숫자를 생각하세요' 라는 메세지를 출력하고 사용자가 생각한 숫자를 입력받는\n",
        "# first_guess 함수를 정의하세요\n",
        "\n",
        "# 사용자가 입력한 숫자와 comp_num 이 같은지 확인하여 같다면 '정답' 이라는 메세지를 출력하고\n",
        "# 틀리면 그 입력한 값이 너무 낮은지 너무 높은지 알려주고 다시 입력하도록 하여\n",
        "# 숫자를 맞출때까지 계속 반복하는 함수를 만드세요\n",
        "\n",
        "import random\n",
        "\n",
        "def pick_num():\n",
        "  num1 = int(input(\"낮은 숫자를 하나 입력하세요 >\"))\n",
        "  num2 = int(input(\"높은 숫자를 하나 입력하세요 >\"))\n",
        "\n",
        "  comp_num = random.randint(num1, num2)\n",
        "\n",
        "  return comp_num\n",
        "\n",
        "def first_guess():\n",
        "  guess = int(input(\"하나의 숫자를 생각하세요 >\"))\n",
        "  return guess\n",
        "\n",
        "def check_answer(comp_num, guess):\n",
        "  try_again = True\n",
        "  while try_again == True:\n",
        "    if comp_num == guess:\n",
        "      print('정답')\n",
        "      try_again = False\n",
        "    elif comp_num  > guess:\n",
        "      guess = int(input('너무 낮습니다. 다시 시도하세요'))\n",
        "    else:\n",
        "      guess = int(input('너무 높습니다. 다시 시도하세요'))\n",
        "\n",
        "def main():\n",
        "  comp_num = pick_num()\n",
        "  guess = first_guess()\n",
        "  check_answer(comp_num, guess)\n",
        "\n",
        "main()\n",
        "\n"
      ],
      "metadata": {
        "colab": {
          "base_uri": "https://localhost:8080/"
        },
        "id": "-sj2LSuZ-ZWv",
        "outputId": "39f684e1-8b55-4d4e-f7f0-716d6fc22b73"
      },
      "execution_count": null,
      "outputs": [
        {
          "output_type": "stream",
          "name": "stdout",
          "text": [
            "낮은 숫자를 하나 입력하세요 >10\n",
            "높은 숫자를 하나 입력하세요 >20\n",
            "하나의 숫자를 생각하세요 >15\n",
            "너무 높습니다. 다시 시도하세요13\n",
            "정답\n"
          ]
        }
      ]
    },
    {
      "cell_type": "code",
      "source": [],
      "metadata": {
        "id": "SPl53kSLD0wM"
      },
      "execution_count": null,
      "outputs": []
    },
    {
      "cell_type": "markdown",
      "source": [
        "![image.png](data:image/png;base64,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)"
      ],
      "metadata": {
        "id": "ihUaxJfkD6pl"
      }
    },
    {
      "cell_type": "code",
      "source": [],
      "metadata": {
        "id": "R48kFPFSEASc"
      },
      "execution_count": null,
      "outputs": []
    },
    {
      "cell_type": "markdown",
      "source": [
        "![image.png](data:image/png;base64,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)"
      ],
      "metadata": {
        "id": "8y-GIMp7E4rg"
      }
    },
    {
      "cell_type": "markdown",
      "source": [
        "![image.png](data:image/png;base64,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)"
      ],
      "metadata": {
        "id": "6jeed906FNWR"
      }
    },
    {
      "cell_type": "code",
      "source": [],
      "metadata": {
        "id": "FEDntvimFOua"
      },
      "execution_count": null,
      "outputs": []
    },
    {
      "cell_type": "markdown",
      "source": [
        "![image.png](data:image/png;base64,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)"
      ],
      "metadata": {
        "id": "_HRMh8IeFcjv"
      }
    },
    {
      "cell_type": "markdown",
      "source": [],
      "metadata": {
        "id": "AhQxbawVFdej"
      }
    },
    {
      "cell_type": "code",
      "source": [
        "# 세 개의 숫자를 입력받아 가장 큰수를 출력하는 print_max 함수를 정의하라. \n",
        "# 단 if 문을 사용해서 수를 비교하라.\n",
        "\n",
        "# by 강세빈\n",
        "\n",
        "def print_max(a, b, c) :\n",
        "  max = a\n",
        "  if b > max : \n",
        "    max = b\n",
        "  if c > max :\n",
        "    max = c\n",
        "  return max\n",
        "\n",
        "\n",
        "\n",
        "print_max(4,6,2)"
      ],
      "metadata": {
        "colab": {
          "base_uri": "https://localhost:8080/"
        },
        "id": "9JvmCWq7E631",
        "outputId": "f856147c-883c-4a2c-ff45-2c0679592417"
      },
      "execution_count": null,
      "outputs": [
        {
          "output_type": "execute_result",
          "data": {
            "text/plain": [
              "6"
            ]
          },
          "metadata": {},
          "execution_count": 47
        }
      ]
    },
    {
      "cell_type": "code",
      "source": [
        "# 입력된 문자열을 역순으로 출력하는 print_reverse 함수를 정의하라.\n",
        "\n",
        "def print_reverse(str):\n",
        "  print(str[::-1])\n",
        "\n",
        "print_reverse('hello')\n",
        "\n",
        "# olleh  slicing"
      ],
      "metadata": {
        "colab": {
          "base_uri": "https://localhost:8080/"
        },
        "id": "eaq7TP_FFLaP",
        "outputId": "253b7476-3378-4563-8912-f516e51e3063"
      },
      "execution_count": null,
      "outputs": [
        {
          "output_type": "stream",
          "name": "stdout",
          "text": [
            "olleh\n"
          ]
        }
      ]
    }
  ]
}