{
  "nbformat": 4,
  "nbformat_minor": 0,
  "metadata": {
    "colab": {
      "provenance": [],
      "authorship_tag": "ABX9TyNYu38Ybk1HLTgT+Qn2PcHu",
      "include_colab_link": true
    },
    "kernelspec": {
      "name": "python3",
      "display_name": "Python 3"
    },
    "language_info": {
      "name": "python"
    }
  },
  "cells": [
    {
      "cell_type": "markdown",
      "metadata": {
        "id": "view-in-github",
        "colab_type": "text"
      },
      "source": [
        "<a href=\"https://colab.research.google.com/github/vMINv/pythonBasic/blob/main/PythonDay5.ipynb\" target=\"_parent\"><img src=\"https://colab.research.google.com/assets/colab-badge.svg\" alt=\"Open In Colab\"/></a>"
      ]
    },
    {
      "cell_type": "code",
      "execution_count": null,
      "metadata": {
        "id": "Yw0uQqEzY71-"
      },
      "outputs": [],
      "source": [
        "#function\n",
        "\n",
        "#JAVA\n",
        "#함수X, 클래스 내부의 메소드만이 존재, 클래스 밖이라는 개념이 없다\n",
        "\n",
        "#Python\n",
        "#함수란? 입력 값에 따라 다른 실행 결과를 내보낸다\n",
        "#함수를 중요하게 많이 사용한다 \n",
        "# > 같은 내용의 반복을 줄이기 위해 함수를 만들어서 필요마다 호출\n",
        "# > 프로그램의 흐름도 잘 파악할 수 있고 오류가 어디서 발생하는지 쉽게 찾을 수 있다"
      ]
    },
    {
      "cell_type": "code",
      "source": [
        "#정의\n",
        "def add(a,b):\n",
        "  return a+b\n",
        "\n",
        "#호출\n",
        "print(add(1,2))\n",
        "print(add(2,6))"
      ],
      "metadata": {
        "colab": {
          "base_uri": "https://localhost:8080/"
        },
        "id": "jFGrkHdZeOUW",
        "outputId": "651b942c-0aa4-4589-8c72-0cbb34020256"
      },
      "execution_count": 2,
      "outputs": [
        {
          "output_type": "stream",
          "name": "stdout",
          "text": [
            "3\n",
            "8\n"
          ]
        }
      ]
    },
    {
      "cell_type": "code",
      "source": [
        "#매개변수와 인수 (객체 vs 인스턴스 / 메소드 vs 함수 / 파라미터 vs 옵션)\n",
        "#혼용하여 사용된다\n",
        "\n",
        "#매개변수란?\n",
        "#함수의 입력으로 전달 된 값을 받는 변수\n",
        "\n",
        "#인수란?\n",
        "#함수를 호출할 때 전달하는 입력 값"
      ],
      "metadata": {
        "id": "A40sUJ8vfUom"
      },
      "execution_count": null,
      "outputs": []
    },
    {
      "cell_type": "code",
      "source": [
        "def add(a,b):#a,b 매개변수\n",
        "  return a+b\n",
        "\n",
        "print(add(1,2))#1,2 인수\n",
        "print(add(2,6))#2,6 인수"
      ],
      "metadata": {
        "id": "KSW09hGvg1ot"
      },
      "execution_count": null,
      "outputs": []
    },
    {
      "cell_type": "code",
      "source": [
        "#함수의 4가지 형태\n",
        "\n",
        "# 1. input O, output O (*****)\n",
        "# 2. input X, output O\n",
        "# 3. input O, output X(return X)\n",
        "# 4. input X, output X(return X)"
      ],
      "metadata": {
        "id": "62F2AjzfhTGQ"
      },
      "execution_count": null,
      "outputs": []
    },
    {
      "cell_type": "code",
      "source": [
        "# 1. input O, output O\n",
        "def add(a,b):\n",
        "  return a+b\n",
        "\n",
        "print(add(1,2))"
      ],
      "metadata": {
        "id": "yaBzMJshh-BZ"
      },
      "execution_count": null,
      "outputs": []
    },
    {
      "cell_type": "code",
      "source": [
        "# 2. input X, output O\n",
        "def say():\n",
        "  return 'Hello World'\n",
        "\n",
        "print(say())"
      ],
      "metadata": {
        "colab": {
          "base_uri": "https://localhost:8080/"
        },
        "id": "0KErFBj-iMzu",
        "outputId": "f4d18f0f-61fd-43ab-e5ed-756a89c30c72"
      },
      "execution_count": 4,
      "outputs": [
        {
          "output_type": "stream",
          "name": "stdout",
          "text": [
            "Hello World\n"
          ]
        }
      ]
    },
    {
      "cell_type": "code",
      "source": [
        "# 3. input O, output X(return X)\n",
        "#print 기능이 있는 함수일 뿐\n",
        "def yesinput(name):\n",
        "  print(name,'님 어서오세요')\n",
        "\n",
        "yesinput('심현민')"
      ],
      "metadata": {
        "colab": {
          "base_uri": "https://localhost:8080/"
        },
        "id": "5KySmJQMi8J8",
        "outputId": "e39130bb-08a3-4d71-de4c-6e8e78c1b440"
      },
      "execution_count": 5,
      "outputs": [
        {
          "output_type": "stream",
          "name": "stdout",
          "text": [
            "심현민 님 어서오세요\n"
          ]
        }
      ]
    },
    {
      "cell_type": "code",
      "source": [
        "# 4. input X, output X(return X)\n",
        "def noinnoout():\n",
        "  print('환영합니다.')\n",
        "\n",
        "noinnoout()"
      ],
      "metadata": {
        "colab": {
          "base_uri": "https://localhost:8080/"
        },
        "id": "n0tvDWR-j3DC",
        "outputId": "2d4e5265-340c-4cce-bcc3-0c20499af250"
      },
      "execution_count": 6,
      "outputs": [
        {
          "output_type": "stream",
          "name": "stdout",
          "text": [
            "환영합니다.\n"
          ]
        }
      ]
    },
    {
      "cell_type": "code",
      "source": [
        "#매개변수의 개수를 알 수 없을 때\n",
        "#가변 매개변수 args\n",
        "\n",
        "def add(*args):\n",
        "  result = 0\n",
        "  for i in args:\n",
        "    result += i\n",
        "  print(result)\n",
        "\n",
        "add(1,2)\n",
        "add(1,2,3)"
      ],
      "metadata": {
        "colab": {
          "base_uri": "https://localhost:8080/"
        },
        "id": "Wm4eqWRYkk0_",
        "outputId": "9f206830-6e01-408f-d993-947e253f48de"
      },
      "execution_count": 8,
      "outputs": [
        {
          "output_type": "stream",
          "name": "stdout",
          "text": [
            "3\n",
            "6\n"
          ]
        }
      ]
    },
    {
      "cell_type": "code",
      "source": [
        "#함수의 return 값은 하나\n",
        "\n",
        "#오류\n",
        "def addmul(a,b):\n",
        "  return a+b\n",
        "  return a*b\n",
        "\n",
        "print(addmul(2,3))\n",
        "\n",
        "#자동으로 튜플 1개로 return한 것\n",
        "def addmul2(a,b):\n",
        "  return a+b, a*b\n",
        "\n",
        "addmul2(2,3)"
      ],
      "metadata": {
        "colab": {
          "base_uri": "https://localhost:8080/"
        },
        "id": "vaQFekkBoQh8",
        "outputId": "c4cfd29a-1881-4b5c-9a63-a61ecc46a82c"
      },
      "execution_count": 13,
      "outputs": [
        {
          "output_type": "stream",
          "name": "stdout",
          "text": [
            "5\n"
          ]
        },
        {
          "output_type": "execute_result",
          "data": {
            "text/plain": [
              "(5, 6)"
            ]
          },
          "metadata": {},
          "execution_count": 13
        }
      ]
    },
    {
      "cell_type": "code",
      "source": [
        "#매개변수에 초기값 미리 설정\n",
        "\n",
        "def aboutme(name, age, gender=True):\n",
        "  print(f'나의 이름은 {name}입니다.')\n",
        "  print(f'나의 나이는 {age}입니다.')\n",
        "  if gender:\n",
        "    print(f'나의 성별은 여성입니다.')\n",
        "  else:\n",
        "    print(f'나의 성별은 남성입니다.')\n",
        "\n",
        "aboutme('심현민', 26)"
      ],
      "metadata": {
        "colab": {
          "base_uri": "https://localhost:8080/"
        },
        "id": "-RuA6b1JpwFJ",
        "outputId": "8190053a-e8e1-4a19-d640-cfe652ac1289"
      },
      "execution_count": 16,
      "outputs": [
        {
          "output_type": "stream",
          "name": "stdout",
          "text": [
            "나의 이름은 심현민입니다.\n",
            "나의 나이는 26입니다.\n",
            "나의 성별은 여성입니다.\n"
          ]
        }
      ]
    },
    {
      "cell_type": "code",
      "source": [
        "#함수 안에서의 변수 효력 범위 (지역변수 / 전역변수)\n",
        "\n",
        "#오류1\n",
        "#함수 밖에서 선언\n",
        "a = 1\n",
        "def vartest(a):#함수의 매개변수 a 는 함수 밖 매개변수 a 와는 다른 것이다\n",
        "  a += 1\n",
        "\n",
        "vartest(a)\n",
        "print(a)"
      ],
      "metadata": {
        "colab": {
          "base_uri": "https://localhost:8080/"
        },
        "id": "vJZxDDChq_Gu",
        "outputId": "ff7f1dae-de66-445a-a4e3-c1e33ee07ee0"
      },
      "execution_count": 18,
      "outputs": [
        {
          "output_type": "stream",
          "name": "stdout",
          "text": [
            "1\n"
          ]
        }
      ]
    },
    {
      "cell_type": "code",
      "source": [
        "#오류2\n",
        "#선언되지않음\n",
        "def vartest(b):\n",
        "  b += 1\n",
        "\n",
        "vartest(3)\n",
        "print(b)"
      ],
      "metadata": {
        "colab": {
          "base_uri": "https://localhost:8080/",
          "height": 198
        },
        "id": "bxFX-IYxsUIo",
        "outputId": "81126989-3ed0-4e18-95d1-38f3fe5f1915"
      },
      "execution_count": 20,
      "outputs": [
        {
          "output_type": "error",
          "ename": "NameError",
          "evalue": "ignored",
          "traceback": [
            "\u001b[0;31m---------------------------------------------------------------------------\u001b[0m",
            "\u001b[0;31mNameError\u001b[0m                                 Traceback (most recent call last)",
            "\u001b[0;32m<ipython-input-20-eee2226d46b1>\u001b[0m in \u001b[0;36m<module>\u001b[0;34m\u001b[0m\n\u001b[1;32m      3\u001b[0m \u001b[0;34m\u001b[0m\u001b[0m\n\u001b[1;32m      4\u001b[0m \u001b[0mvartest\u001b[0m\u001b[0;34m(\u001b[0m\u001b[0;36m3\u001b[0m\u001b[0;34m)\u001b[0m\u001b[0;34m\u001b[0m\u001b[0;34m\u001b[0m\u001b[0m\n\u001b[0;32m----> 5\u001b[0;31m \u001b[0mprint\u001b[0m\u001b[0;34m(\u001b[0m\u001b[0mb\u001b[0m\u001b[0;34m)\u001b[0m\u001b[0;34m\u001b[0m\u001b[0;34m\u001b[0m\u001b[0m\n\u001b[0m",
            "\u001b[0;31mNameError\u001b[0m: name 'b' is not defined"
          ]
        }
      ]
    },
    {
      "cell_type": "code",
      "source": [
        "#성공 \n",
        "#return O\n",
        "def vartest(c):\n",
        "  c += 1\n",
        "  return c\n",
        "\n",
        "vartest(3)"
      ],
      "metadata": {
        "colab": {
          "base_uri": "https://localhost:8080/"
        },
        "id": "z_fACVGes22L",
        "outputId": "b696091e-e201-4b6b-94e5-5b5433155352"
      },
      "execution_count": 22,
      "outputs": [
        {
          "output_type": "execute_result",
          "data": {
            "text/plain": [
              "4"
            ]
          },
          "metadata": {},
          "execution_count": 22
        }
      ]
    },
    {
      "cell_type": "code",
      "source": [
        "# Class / Object\n",
        "\n",
        "# OOP\n",
        "# Object Oriented Programming 객체 지향 프로그래밍\n",
        "# 객체, 상속, \n",
        "\n",
        "# C언어 OOP X\n",
        "\n",
        "# class : 붕어빵 틀, 쿠키 틀, 게임 속 적 틀\n",
        "# object : 붕어빵, 쿠키, 게임 속 적\n",
        "# (맛, 색은 다르더라도 붕어빵, 쿠키, 적인 것은 동일)\n",
        "\n",
        "# 인스턴스 VS 객체\n",
        "# 클래스로 만든 객체를 인스턴스라고 한다\n",
        "# 차이\n",
        "# a는 쿠키 클래스의 인스턴스이다. a는 객체이다.\n",
        "# 인스턴스는 클래스와의 관계를 설명할 때 사용되고 객체는 그 자체를 설명할 때 사용된다"
      ],
      "metadata": {
        "id": "Dk2zZWAItYRy"
      },
      "execution_count": null,
      "outputs": []
    },
    {
      "cell_type": "code",
      "source": [
        "# 클래스 정의\n",
        "class Cal:\n",
        "  pass\n",
        "\n",
        "# 클래스로 인스턴스 생성\n",
        "a = Cal()"
      ],
      "metadata": {
        "id": "-L3biW0zxCIK"
      },
      "execution_count": 23,
      "outputs": []
    },
    {
      "cell_type": "code",
      "source": [
        "result = 0\n",
        "result1 = 0\n",
        "\n",
        "def add(num):\n",
        "  global result\n",
        "  result += num\n",
        "  return result\n",
        "\n",
        "def add2(num):\n",
        "  global result1\n",
        "  result1 += num\n",
        "  return result1\n",
        "\n",
        "print(add(3))\n",
        "print(add(4))\n",
        "print()\n",
        "print(add2(2))\n",
        "print(add2(5))\n"
      ],
      "metadata": {
        "colab": {
          "base_uri": "https://localhost:8080/"
        },
        "id": "DllSDh3P1twW",
        "outputId": "90a3c780-95de-427e-f6ba-fe5994edb527"
      },
      "execution_count": 25,
      "outputs": [
        {
          "output_type": "stream",
          "name": "stdout",
          "text": [
            "3\n",
            "7\n",
            "\n",
            "2\n",
            "7\n"
          ]
        }
      ]
    },
    {
      "cell_type": "code",
      "source": [
        "class Cal:\n",
        "  def __init__(self):#생성자\n",
        "    self.result = 0\n",
        "  \n",
        "  def add(self, num):\n",
        "    self.result += num\n",
        "    return self.result\n",
        "\n",
        "cal1 = Cal()\n",
        "cal2 = Cal()\n",
        "cal3 = Cal()\n",
        "\n",
        "print(cal1.add(2))\n",
        "print(cal1.add(1))\n",
        "print(cal1.add(3))\n",
        "print()\n",
        "print(cal2.add(5))\n",
        "print(cal2.add(4))\n",
        "print(cal2.add(1))\n",
        "print()\n",
        "print(cal3.add(2))\n",
        "\n",
        "#동일한 클래스로 만든 객체들은 각기 다른 특성을 가지게 된다"
      ],
      "metadata": {
        "colab": {
          "base_uri": "https://localhost:8080/"
        },
        "id": "CAbwCAtc2sQD",
        "outputId": "9881ec2a-f9fc-4182-d405-6e869eadb159"
      },
      "execution_count": 26,
      "outputs": [
        {
          "output_type": "stream",
          "name": "stdout",
          "text": [
            "2\n",
            "3\n",
            "6\n",
            "\n",
            "5\n",
            "9\n",
            "10\n",
            "\n",
            "2\n"
          ]
        }
      ]
    },
    {
      "cell_type": "code",
      "source": [
        "class Cal:\n",
        "  def __init__(self):#생성자\n",
        "    self.result = 0\n",
        "  \n",
        "  def add(self, num):\n",
        "    self.result += num\n",
        "    return self.result\n",
        "\n",
        "  def sub(self, num):\n",
        "    self.result -= num\n",
        "    return self.result\n",
        "\n",
        "cal1 = Cal()\n",
        "cal2 = Cal()\n",
        "cal3 = Cal()\n",
        "\n",
        "print(cal1.add(2))\n",
        "print(cal1.add(1))\n",
        "print(cal1.add(3))\n",
        "print()\n",
        "print(cal2.add(5))\n",
        "print(cal2.add(4))\n",
        "print(cal2.add(1))\n",
        "print()\n",
        "print(cal3.add(2))\n",
        "\n",
        "#이미 만들어진 클래스에 새로운 기능이 추가되면 객체들도 그 기능을 모두 사용 가능하다"
      ],
      "metadata": {
        "colab": {
          "base_uri": "https://localhost:8080/"
        },
        "id": "k5VEIGTU4Lfy",
        "outputId": "6cccfb75-b713-4a58-9c1c-20e3c6c632b9"
      },
      "execution_count": 27,
      "outputs": [
        {
          "output_type": "stream",
          "name": "stdout",
          "text": [
            "2\n",
            "3\n",
            "6\n",
            "\n",
            "5\n",
            "9\n",
            "10\n",
            "\n",
            "2\n"
          ]
        }
      ]
    },
    {
      "cell_type": "code",
      "source": [
        "class BigCal:\n",
        "  def setdata(self, first, second):# self는 호출한 객체의 이름이 온다\n",
        "    self.first = first\n",
        "    self.second = second\n",
        "\n",
        "  def add(self):\n",
        "    result = self.first + self.second\n",
        "    return result\n",
        "\n",
        "  def sub(self):\n",
        "    result = self.first - self.second\n",
        "    return result\n",
        "\n",
        "  def mul(self):\n",
        "    result = self.first * self.second\n",
        "    return result\n",
        "  \n",
        "  def div(self):\n",
        "    result = self.first / self.second\n",
        "    return result\n",
        "\n",
        "cal1 = BigCal()\n",
        "cal2 = BigCal()\n",
        "\n",
        "cal1.setdata(2,9) # self:cal1 / first:2 / second:3\n",
        "cal2.setdata(5,1) # self:cal2 / first:5 / second:1\n",
        "\n",
        "print(cal1.first)\n",
        "print(cal1.second)\n",
        "print(cal2.first)\n",
        "print()\n",
        "print(cal1.add())\n",
        "print(cal2.add())\n",
        "print()\n",
        "print(cal1.sub())\n",
        "print(cal2.sub())\n",
        "print()\n",
        "print(cal1.mul())\n",
        "print(cal2.mul())\n",
        "print()\n",
        "print(cal1.div())\n",
        "print(cal2.div())"
      ],
      "metadata": {
        "colab": {
          "base_uri": "https://localhost:8080/"
        },
        "id": "TeJgu3y646fs",
        "outputId": "f1eb865f-042d-44e3-f468-c8e836ffbfde"
      },
      "execution_count": 39,
      "outputs": [
        {
          "output_type": "stream",
          "name": "stdout",
          "text": [
            "2\n",
            "9\n",
            "5\n",
            "\n",
            "11\n",
            "6\n",
            "\n",
            "-7\n",
            "4\n",
            "\n",
            "18\n",
            "5\n",
            "\n",
            "0.2222222222222222\n",
            "5.0\n"
          ]
        }
      ]
    },
    {
      "cell_type": "code",
      "source": [
        "# 상속 Inheritance"
      ],
      "metadata": {
        "id": "91uXcMdw8sdN"
      },
      "execution_count": null,
      "outputs": []
    }
  ]
}