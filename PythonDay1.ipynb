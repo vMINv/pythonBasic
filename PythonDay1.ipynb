{
  "nbformat": 4,
  "nbformat_minor": 0,
  "metadata": {
    "colab": {
      "provenance": [],
      "authorship_tag": "ABX9TyMBNPt9aoLs6fPedTp6TtAw",
      "include_colab_link": true
    },
    "kernelspec": {
      "name": "python3",
      "display_name": "Python 3"
    },
    "language_info": {
      "name": "python"
    }
  },
  "cells": [
    {
      "cell_type": "markdown",
      "metadata": {
        "id": "view-in-github",
        "colab_type": "text"
      },
      "source": [
        "<a href=\"https://colab.research.google.com/github/vMINv/pythonBasic/blob/main/PythonDay1.ipynb\" target=\"_parent\"><img src=\"https://colab.research.google.com/assets/colab-badge.svg\" alt=\"Open In Colab\"/></a>"
      ]
    },
    {
      "cell_type": "code",
      "execution_count": 1,
      "metadata": {
        "colab": {
          "base_uri": "https://localhost:8080/"
        },
        "id": "94JorEvdkXrK",
        "outputId": "8e419ee3-e6f2-4b12-c9e7-12e71b1f2f27"
      },
      "outputs": [
        {
          "output_type": "stream",
          "name": "stdout",
          "text": [
            "Hello World 한글\n"
          ]
        }
      ],
      "source": [
        "print(\"Hello World 한글\")"
      ]
    },
    {
      "cell_type": "code",
      "source": [
        "a=20\n",
        "a=\"hi\"\n",
        "print(a)\n",
        "#타입 자동 지정"
      ],
      "metadata": {
        "colab": {
          "base_uri": "https://localhost:8080/"
        },
        "id": "yzoxecOXlVzp",
        "outputId": "9ee89a8e-9eb0-498b-8681-4d3364d6f63c"
      },
      "execution_count": 3,
      "outputs": [
        {
          "output_type": "stream",
          "name": "stdout",
          "text": [
            "hi\n"
          ]
        }
      ]
    },
    {
      "cell_type": "code",
      "source": [
        "#정수형 자료형\n",
        "a=100\n",
        "b=-123\n",
        "c=0"
      ],
      "metadata": {
        "id": "rp-I8eMerBy8"
      },
      "execution_count": null,
      "outputs": []
    },
    {
      "cell_type": "code",
      "source": [
        "#실수형 자료형\n",
        "a=3.14\n",
        "b=-5.16"
      ],
      "metadata": {
        "id": "cxuk5oDDrKLY"
      },
      "execution_count": null,
      "outputs": []
    },
    {
      "cell_type": "code",
      "source": [
        "#숫자형 자료형에서의 연산\n",
        "a=3\n",
        "b=4\n",
        "\n",
        "#코랩에서는 print를 생략해도 알아서 넣어준다. 하지만 마지막에만 넣어준다.\n",
        "a+b\n",
        "a-b"
      ],
      "metadata": {
        "colab": {
          "base_uri": "https://localhost:8080/"
        },
        "id": "v_ThAK3MrP99",
        "outputId": "a93c2f39-7259-4619-d9db-b4457fbaee9d"
      },
      "execution_count": 4,
      "outputs": [
        {
          "output_type": "execute_result",
          "data": {
            "text/plain": [
              "-1"
            ]
          },
          "metadata": {},
          "execution_count": 4
        }
      ]
    },
    {
      "cell_type": "code",
      "source": [
        "a+b\n",
        "a-b\n",
        "print(a+b)\n",
        "print(a-b)\n",
        "\n",
        "#코랩 특징 "
      ],
      "metadata": {
        "colab": {
          "base_uri": "https://localhost:8080/"
        },
        "id": "1RhIoiffrfo5",
        "outputId": "dec164e1-8810-426e-d7a4-efbc22847e45"
      },
      "execution_count": 5,
      "outputs": [
        {
          "output_type": "stream",
          "name": "stdout",
          "text": [
            "7\n",
            "-1\n"
          ]
        }
      ]
    },
    {
      "cell_type": "code",
      "source": [
        "#나머지 연산자 - 홀수, 짝수, 배수 확인\n",
        "5/2 \n",
        "#나누기"
      ],
      "metadata": {
        "colab": {
          "base_uri": "https://localhost:8080/"
        },
        "id": "LZJBqdoer2wf",
        "outputId": "bee157aa-c1e3-4b36-ddfb-53f6fd899ac3"
      },
      "execution_count": 6,
      "outputs": [
        {
          "output_type": "execute_result",
          "data": {
            "text/plain": [
              "2.5"
            ]
          },
          "metadata": {},
          "execution_count": 6
        }
      ]
    },
    {
      "cell_type": "code",
      "source": [
        "5//2 \n",
        "#몫"
      ],
      "metadata": {
        "colab": {
          "base_uri": "https://localhost:8080/"
        },
        "id": "JHDKOtr9sIr6",
        "outputId": "95052f22-9b79-4e7c-ba52-6c538df6e1e1"
      },
      "execution_count": 7,
      "outputs": [
        {
          "output_type": "execute_result",
          "data": {
            "text/plain": [
              "2"
            ]
          },
          "metadata": {},
          "execution_count": 7
        }
      ]
    },
    {
      "cell_type": "code",
      "source": [
        "5%2 \n",
        "#나머지 \n",
        "#0:짝수 1:홀수"
      ],
      "metadata": {
        "colab": {
          "base_uri": "https://localhost:8080/"
        },
        "id": "60ABdpxQsOUA",
        "outputId": "2e2ef092-a19d-4db3-9a08-61a6864c7484"
      },
      "execution_count": 11,
      "outputs": [
        {
          "output_type": "execute_result",
          "data": {
            "text/plain": [
              "1"
            ]
          },
          "metadata": {},
          "execution_count": 11
        }
      ]
    },
    {
      "cell_type": "code",
      "source": [
        "8%2\n",
        "#나머지 \n",
        "#0:배수 관계"
      ],
      "metadata": {
        "colab": {
          "base_uri": "https://localhost:8080/"
        },
        "id": "gekaAEHlsldN",
        "outputId": "a5177dcc-4ffb-4cf0-fc7b-ff75c60a4b81"
      },
      "execution_count": 12,
      "outputs": [
        {
          "output_type": "execute_result",
          "data": {
            "text/plain": [
              "0"
            ]
          },
          "metadata": {},
          "execution_count": 12
        }
      ]
    },
    {
      "cell_type": "code",
      "source": [
        "#문자열 자료형 \"\" '' 동일\n",
        "#\"\"\n",
        "\"Hello World\"\n",
        "\n",
        "#''\n",
        "'Hello World'\n",
        "\n",
        "#\"\"\" \"\"\"\n",
        "\"\"\"Hello World\"\"\""
      ],
      "metadata": {
        "colab": {
          "base_uri": "https://localhost:8080/",
          "height": 37
        },
        "id": "h5oshraRwjyA",
        "outputId": "6a0d0250-83b4-4a4e-cb76-2224a7eee079"
      },
      "execution_count": 13,
      "outputs": [
        {
          "output_type": "execute_result",
          "data": {
            "text/plain": [
              "'Hello World'"
            ],
            "application/vnd.google.colaboratory.intrinsic+json": {
              "type": "string"
            }
          },
          "metadata": {},
          "execution_count": 13
        }
      ]
    },
    {
      "cell_type": "code",
      "source": [
        "\"Python's\"\n",
        "'say \"Hello\"'"
      ],
      "metadata": {
        "colab": {
          "base_uri": "https://localhost:8080/",
          "height": 37
        },
        "id": "MqUYbvKiw5Gk",
        "outputId": "2a81fc4f-22be-499c-94b2-5f2ca05d459a"
      },
      "execution_count": 14,
      "outputs": [
        {
          "output_type": "execute_result",
          "data": {
            "text/plain": [
              "'say \"Hello\"'"
            ],
            "application/vnd.google.colaboratory.intrinsic+json": {
              "type": "string"
            }
          },
          "metadata": {},
          "execution_count": 14
        }
      ]
    },
    {
      "cell_type": "code",
      "source": [
        "#줄바꿈 : \\n\n",
        "a=\"I love you.\\nYou love me?\"\n",
        "print(a)\n",
        "\n",
        "#줄바꿈 : \"\"\" + enter\n",
        "b=\"\"\"I love you.\n",
        "You love me?\"\"\"\n",
        "print(b)"
      ],
      "metadata": {
        "colab": {
          "base_uri": "https://localhost:8080/"
        },
        "id": "lNBbMhTCxNDC",
        "outputId": "65908bff-877b-4592-8696-02cb07b2526f"
      },
      "execution_count": 19,
      "outputs": [
        {
          "output_type": "stream",
          "name": "stdout",
          "text": [
            "I love you.\n",
            "You love me?\n",
            "I love you.\n",
            "You love me?\n"
          ]
        }
      ]
    },
    {
      "cell_type": "code",
      "source": [
        "#문자열 연산\n",
        "a=\"I \"\n",
        "b=\"love \"\n",
        "c=\"you \"\n",
        "print(a+b+c)\n",
        "print(b*3)"
      ],
      "metadata": {
        "colab": {
          "base_uri": "https://localhost:8080/"
        },
        "id": "C4UOD8cRy2dK",
        "outputId": "2fb9b868-02cf-4b6c-f3ff-a8bea4bcb2ca"
      },
      "execution_count": 27,
      "outputs": [
        {
          "output_type": "stream",
          "name": "stdout",
          "text": [
            "I love you \n",
            "love love love \n"
          ]
        }
      ]
    },
    {
      "cell_type": "code",
      "source": [
        "#len()\n",
        "print(len(\"I love you\"))"
      ],
      "metadata": {
        "colab": {
          "base_uri": "https://localhost:8080/"
        },
        "id": "P4Al7Ci90GVG",
        "outputId": "b49da166-9c41-41ac-d98f-463636d6a452"
      },
      "execution_count": 28,
      "outputs": [
        {
          "output_type": "stream",
          "name": "stdout",
          "text": [
            "10\n"
          ]
        }
      ]
    },
    {
      "cell_type": "code",
      "source": [
        "#indexing & slicing\n",
        "#indexing - 한 글자\n",
        "a='I love you'\n",
        "print(a[0])\n",
        "print(a[9])\n",
        "print(a[-1])\n",
        "\n",
        "#slicing - 여러 글자\n",
        "print(a[2]+a[3]+a[4]+a[5])\n",
        "print(a[2:6])#끝자리+1\n",
        "print(a[7:])#끝까지\n",
        "print(a[:6])#처음부터(0부터)\n",
        "print(a[:])#전체\n",
        "print(a[7:-1])#-1 적용 가능"
      ],
      "metadata": {
        "colab": {
          "base_uri": "https://localhost:8080/"
        },
        "id": "SYU8pcc-0_QX",
        "outputId": "86c8dbd9-0e0d-4741-e691-b6d8d5b2ec8f"
      },
      "execution_count": 37,
      "outputs": [
        {
          "output_type": "stream",
          "name": "stdout",
          "text": [
            "I\n",
            "u\n",
            "u\n",
            "love\n",
            "love\n",
            "you\n",
            "I love\n",
            "I love you\n",
            "yo\n"
          ]
        }
      ]
    },
    {
      "cell_type": "code",
      "source": [],
      "metadata": {
        "id": "WC-aYV6j3ndJ"
      },
      "execution_count": null,
      "outputs": []
    }
  ]
}