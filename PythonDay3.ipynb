{
  "nbformat": 4,
  "nbformat_minor": 0,
  "metadata": {
    "colab": {
      "provenance": [],
      "include_colab_link": true
    },
    "kernelspec": {
      "name": "python3",
      "display_name": "Python 3"
    },
    "language_info": {
      "name": "python"
    }
  },
  "cells": [
    {
      "cell_type": "markdown",
      "metadata": {
        "id": "view-in-github",
        "colab_type": "text"
      },
      "source": [
        "<a href=\"https://colab.research.google.com/github/vMINv/pythonBasic/blob/main/PythonDay3.ipynb\" target=\"_parent\"><img src=\"https://colab.research.google.com/assets/colab-badge.svg\" alt=\"Open In Colab\"/></a>"
      ]
    },
    {
      "cell_type": "code",
      "execution_count": null,
      "metadata": {
        "id": "3J-5Aq3vHkmZ"
      },
      "outputs": [],
      "source": [
        "# 조건문  if \n",
        "\n",
        "# 조건문은 특정 조건을 만족할때 실행되는 코드를 제어한다. 개발하다보면 여러가지 상황을 처리해야\n",
        "# 하는 경우가 발생한다. 이때 조건문을 통해 실행 되거나 또는 실행되지 않는 코드를 정의 할 수 있다. \n",
        "\n",
        "# if 의 기본 문법\n",
        "\n",
        "# 자바에서의 기본 if문\n",
        "# if (조건식) {\n",
        "#     만족하는 경우;\n",
        "# }\n",
        "\n",
        "# 파이썬에서의 기본 if문\n",
        "# if 조건식:                          # 조건식 뒤에 : 콜론을 잊지 말자. 중괄호는 사용하지 않는다. \n",
        "#   조건을 만족하는 경우 실행코드     # 파이썬은 들여쓰기에 매우 민감하다. \n",
        "\n",
        "# 조건식에는 항상 언제나 최종값이 True와 False 만이 올수 있다. \n",
        "# 다시 한번 강조하지만 만약 들여쓰기를 하지 않으면 오류가 발생된다. \n",
        "\n",
        "x = 11\n",
        "if x == 10:\n",
        "  print(x)\n"
      ]
    },
    {
      "cell_type": "code",
      "source": [
        "a = int(input('정수를 입력하세요 > '))\n",
        "\n",
        "if a == 5:\n",
        "  print(f'입력한 값은 {a}입니다.')  "
      ],
      "metadata": {
        "colab": {
          "base_uri": "https://localhost:8080/"
        },
        "id": "Qk5k0UDlJ9bR",
        "outputId": "e0766958-8dc9-4674-d863-413f34e028a3"
      },
      "execution_count": null,
      "outputs": [
        {
          "output_type": "stream",
          "name": "stdout",
          "text": [
            "정수를 입력하세요 > 5\n",
            "입력한 값은 5입니다.\n"
          ]
        }
      ]
    },
    {
      "cell_type": "code",
      "source": [
        "# 조건식을 여러개 취급해야하는 경우 가능하면 중첩/병열 if 문은 사용하지 말자 \n",
        "x = 15\n",
        "\n",
        "if x >= 10:\n",
        "  print('x는 10 이상입니다. ')\n",
        "  if x <= 20:\n",
        "    print('x는 20 이하입니다.')\n",
        "  if x == 15:\n",
        "    print('x는 15입니다.')"
      ],
      "metadata": {
        "colab": {
          "base_uri": "https://localhost:8080/"
        },
        "id": "yLnSGsWSLTZL",
        "outputId": "3a72964c-ed47-4793-f319-7a45c1b20da4"
      },
      "execution_count": null,
      "outputs": [
        {
          "output_type": "stream",
          "name": "stdout",
          "text": [
            "x는 10 이상입니다. \n",
            "x는 20 이하입니다.\n",
            "x는 15입니다.\n"
          ]
        }
      ]
    },
    {
      "cell_type": "code",
      "source": [
        "a = int(input('숫자를 입력하세요'))\n",
        "\n",
        "if a > 5:\n",
        "  print('입력값이 5보다 큽니다. ')\n",
        "else :\n",
        "  print('입력값이 5보다 작거나 같습니다.')"
      ],
      "metadata": {
        "colab": {
          "base_uri": "https://localhost:8080/"
        },
        "id": "8zT7yWhpMQH0",
        "outputId": "bcc9913d-d978-4d51-c9be-a1e2c42526f0"
      },
      "execution_count": null,
      "outputs": [
        {
          "output_type": "stream",
          "name": "stdout",
          "text": [
            "숫자를 입력하세요4\n",
            "입력값이 5보다 작거나 같습니다.\n"
          ]
        }
      ]
    },
    {
      "cell_type": "code",
      "source": [
        "a = int(input('숫자를 입력하세요'))\n",
        "\n",
        "if a > 5:\n",
        "  print('입력값이 5보다 큽니다. ')\n",
        "elif a == 5:\n",
        "  print('입력값이 5입니다.')\n",
        "else :\n",
        "  print('입력값이 5보다 작습니다.')"
      ],
      "metadata": {
        "colab": {
          "base_uri": "https://localhost:8080/"
        },
        "id": "QXh6rRQbMwK0",
        "outputId": "9426c3e8-9fa4-4784-87ee-7cc0104c08c9"
      },
      "execution_count": null,
      "outputs": [
        {
          "output_type": "stream",
          "name": "stdout",
          "text": [
            "숫자를 입력하세요7\n",
            "입력값이 5보다 큽니다. \n"
          ]
        }
      ]
    },
    {
      "cell_type": "code",
      "source": [
        "no = int(input('1부터 5사이의 값을 입력하세요'))\n",
        "\n",
        "if no < 5 and no >= 4: # 양쪽 조건을 동시에 만족\n",
        "  print('입력값은 4입니다.')\n",
        "elif no < 4 and no >= 3: # 양쪽 조건을 동시에 만족\n",
        "  print('입력값은 3입니다.')\n",
        "elif no < 3 and no >= 2: # 양쪽 조건을 동시에 만족\n",
        "  print('입력값은 2입니다.')\n",
        "elif no < 2 and no >= 1: # 양쪽 조건을 동시에 만족\n",
        "  print('입력값은 1입니다.')\n",
        "else:\n",
        "  print('입력값은 5입니다.')"
      ],
      "metadata": {
        "colab": {
          "base_uri": "https://localhost:8080/"
        },
        "id": "PEg5LXYtNWqS",
        "outputId": "8e54d4e9-a40f-4f91-a952-ff0afc84b6c9"
      },
      "execution_count": null,
      "outputs": [
        {
          "output_type": "stream",
          "name": "stdout",
          "text": [
            "1부터 5사이의 값을 입력하세요3\n",
            "입력값은 3입니다.\n"
          ]
        }
      ]
    },
    {
      "cell_type": "code",
      "source": [
        "# q1 월을 입력하세요? 해당 계절을 출력하세요. \n",
        "# 3,4,5 봄 6,7,8여름 9 10 11 가을 12 1 2 봄\n"
      ],
      "metadata": {
        "id": "PTyyjbAoPAE3"
      },
      "execution_count": null,
      "outputs": []
    },
    {
      "cell_type": "markdown",
      "source": [
        "![44DCEB74-1BC6-4866-82DA-B699197D3D40.png](data:image/png;base64,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)"
      ],
      "metadata": {
        "id": "6Fe0_OiMRG_n"
      }
    },
    {
      "cell_type": "code",
      "source": [
        "# if statement 조건 구문\n",
        "\n",
        "# 정수 하나를 입력 받아서 그 수가 홀수 인지 짝수 인지를 알려주는 프로그램을 만드세요\n",
        "\n",
        "no = int(input('정수를 입력하세요'))\n",
        "\n",
        "if no % 2 == 0:\n",
        "  print(f'입력하신 {no}은 짝수 입니다. ')\n",
        "else:\n",
        "  print(f'입력하신 {no}은 홀수 입니다. ')\n",
        "\n"
      ],
      "metadata": {
        "colab": {
          "base_uri": "https://localhost:8080/"
        },
        "id": "eO1SYu7ePBIO",
        "outputId": "07360c1c-3ec1-4ff7-d5b4-303f05a3a0cd"
      },
      "execution_count": null,
      "outputs": [
        {
          "output_type": "stream",
          "name": "stdout",
          "text": [
            "정수를 입력하세요4\n",
            "입력하신 4은 짝수 입니다. \n"
          ]
        }
      ]
    },
    {
      "cell_type": "code",
      "source": [
        "# 조건부 표현식  if expression  조건 표현식\n",
        "# 자바의 삼항연산자와는 달리 if 를 사용하여 표현한다. \n",
        "\n",
        "no = int(input('정수를 입력하세요'))\n",
        "\n",
        "\n",
        "answer = '짝수' if no % 2 == 0 else \"홀수\"   # True출력값      if 조건식     else False출력값\n",
        "print(f'입력하신 {no}은 {answer}입니다')"
      ],
      "metadata": {
        "colab": {
          "base_uri": "https://localhost:8080/"
        },
        "id": "V6ckPE1ePBXY",
        "outputId": "a9d99026-83af-4721-c3cc-c0ad3d0dea6f"
      },
      "execution_count": null,
      "outputs": [
        {
          "output_type": "stream",
          "name": "stdout",
          "text": [
            "정수를 입력하세요5\n",
            "입력하신 5은 홀수입니다\n"
          ]
        }
      ]
    },
    {
      "cell_type": "code",
      "source": [
        "# if 와  in 연산자\n",
        "list1 = ['봄','가을']\n",
        "\n",
        "input1 = input('어느 계절을 좋아하시나요? ')\n",
        "\n",
        "if input1 in list1:\n",
        "  print(f'{input1}은 여행 가능한 계절니다. ')\n",
        "else:\n",
        "  print(f'{input1}은 여행이 불가능한 계절입니다. ')\n",
        "\n"
      ],
      "metadata": {
        "colab": {
          "base_uri": "https://localhost:8080/"
        },
        "id": "ZXTFRj3tWeUP",
        "outputId": "615234a7-c5e5-454c-f9cd-39056a96c7bc"
      },
      "execution_count": null,
      "outputs": [
        {
          "output_type": "stream",
          "name": "stdout",
          "text": [
            "어느 계절을 좋아하시나요? 겨울\n",
            "겨울은 여행이 불가능한 계절입니다. \n"
          ]
        }
      ]
    },
    {
      "cell_type": "code",
      "source": [
        "# 성적을 입력 받아서 59점 까지는 F학점\n",
        "# 69점까지는 D학점\n",
        "# 79점까지는 C학점\n",
        "# 89점까지는 B학점\n",
        "# 100점까지는 A학점을 \n",
        "# '당신의 점수 {}는 {}학점입니다.'\n",
        "\n",
        "# by 김도영님 "
      ],
      "metadata": {
        "id": "5p3YX8qjNW5D"
      },
      "execution_count": null,
      "outputs": []
    },
    {
      "cell_type": "markdown",
      "source": [
        "![3C562951-7AA9-46D4-BD80-5A42C739EAC2.png](data:image/png;base64,iVBORw0KGgoAAAANSUhEUgAAAkYAAAE3CAYAAABPS46VAAAAAXNSR0IArs4c6QAAAARnQU1BAACxjwv8YQUAAAAJcEhZcwAADsMAAA7DAcdvqGQAACnySURBVHhe7d3P6xxHfv/x3PcvyDU5flkQYi1EJCEjPgYpHxGErJVQ1iwoGj6RhEAmIogNiyBC+8Ef+FwWgoXCEnKQDvIhH9kQgQIbgoIMia8fFiPMxidDDnvLSZf6dndV9VRVv6u7erpmPj09z4YHtrqqe+bTv+o11dUzf/Qn/+8D1ccf/+mPAQAAJolgBAAAYBCMAAAADIIRAACAQTACAAAwCEYAAAAGwQgAAMAYHIz+7NyfYyR+9O8/6iQtB0yJdNyH3v72XyvS8gA2G8FoQqQGICQtB0yJdNyHCEYAYghGEyI1ACFpOWBKpOM+RDACEEMwmhCpAQhJy8H38oddcX6pq6yNW89dbhGxdYd1YvNjpLrhvLGTjvsQwQhATNZg9Je/2FHvv7yr3u//1JsPbdnbR2oAfnT4L0qpf1GfmH+79dd6f/39fxZ/13+qX0pllZ+rvbKx/+9b6i/E8ri2MJAaFHKsI0ZaPnVemxzryCu2D3fVb4u9/9u/d+fN6WP/k+KoL478Q+dccBCMAMQsJRi9+8Ulb/6R+OnP1LvivfzbXwtlRyTL9mn5uxoNwH/9Sv2uaBx+9/uf1PPc+mu7v/7qmfp98Xf9/p9vy+Wln99Svykb1YOfy+URXUEgJSiUddrqDQkbsWWl+X1fx9Yv/+sK661Myz782T9/XxwBcjiyx/pPfl8e/XI4IhgBiJnurbQRBqMskoOR/sSs/vcTb364zGgk7y/dW6D+o6PB/sXfVI363i+Esgg3CNj/D4XLSMK67vLu/L7alg3LuupKpHrhvJXq2Ic6HDV7Dd3jXYejeY+pRTACEEMwWjeJwSjWIITLjEbi/oo1hqG/+IdfFo3q36gbQpnEDQexQJASFHKsI6Zt2bAsx+v3fq9VkPml+tufC2UL6N6Hckh2j/fYBwSCEYCYPMHor2/osSpWY8zKJfWP/6Rv2dTjWkr/9DP1lwvUCdf/d/vzed6yDTfU3znLrUyG7ZPyd4WNgXsLzcr1fo5mf+mGsPUW2gLKAJASLNqCQriO8N/u/HBeKmmdfV8nNt+y67OkOm1uHJTL5QtHXaSgHB7z0ocEghGAmMw9RnJDWM8vG7u67Kfq34p/lw1ro07duIbr625oa6PsMRqyfYyUHqNqwPXv1K/+a94QWP4yQ96PU2dV+6sacP29+s1fCWULijX+YTBIrRdKWUcf9vWsWJ2+88OyWN0UKw1HZryZO9YoPObtWDt3rBHBCEDMaoOR15sQNpByHd2jYHsOMje0rW6r3/xPcTWNTLEnYtoN2T5GQjCK3UYr+csMeT9ynWXur9TbaKn6NP5DgoKVYx0pYq9TzpfE6krzU60uHOnz1O1FDI/5H/37T9Sv/s/vQSUYAYhZbTBqbSAjy1a3fXbUP/40Xmc5wWgZhmwfIzUY/d+v1E/Mv13+MkPeT2TZJe6vKhj9zzP1M6Fs2YYGhRxS38MY3mtJh6N+A+D7Mx9gnHFG4TFvg5E7zohgBCCGYLRSQ7aPkRqMcvQYtb6fyLLLDkYZe4yssvGOkeq7pGVipOVTpS7fVs99L12k5ZPZx+x7DH5fHD1GAPIafTDqvjUTec3BwegIbqUF8xcNRtnGGLW+H7nOUvdX5jFGKSEgS1AoDF2HfR8ppOX7GLIO20v0m3+4IpZnxxgjAJmNOxiZxtIdgCw2vEWd5mvqwcLN+UdpyPax4n/XvDHoeCqtNuT9CHWWvr/yPpWWGgCOOmyURv9eV9pLNMdTaQByyxKMdONnGjxPn1sqTqPpaPYg+PXKRrh6falBNQ31fH22gV6tPNvHEfm73Mbgk/8t2gLhdlq5/Drvr1/+R/l3Db+dVjb+XQEgpU6Koeuw7yOFtHwfi63jivrb/15hL1GtOb6o5B7v0viiEsEIQEzmHqMh5MYY6dwL//K/+fqo9lfiN18nCoOFS6q/iJzrWrZ1eq+xMWfu8R4bb0cwAhBDMJoQ98Jf6fittGGOcH+l/FYapq1lvFl9/LeMtSMYAYghGE1IePGvtPy6/jBHvL86f10f06V7DWMPQOhjX/eY8uv6APoaUTDCUFIDEJKWA6ZEOu5DBCMAMQSjCZEagJC0HDAl0nEfkpYDgBLBaEKkBiAkLQdMiXTch6TlAKBEMJoQqQEIScsBUyId9yFpOQAoDQ5GAAAAU0EwAgAAMAhGAAAABsEIAADAIBgBAAAYBCMAAACDYAQAAGAQjAAAAAyCEQAAgEEwAgAAMAhGAAAABsEIAADAIBgBAAAYBCMAAACDYAQAAGAQjAAAAAyCEQAAgEEwAgAAMAhGAAAABsEIAADAIBgBAAAYBCMAAACDYAQAAGAQjAAAAIyswejEhTfq60+/V19fvS2WW3U9Y/+MXK/N2Ts31Psv76r3j86J5QAAAH0tJRi9uLAtllfOPCvqvFH3jgllPdhgdHjnpFi+UqcuqsPivRxcFsrGaOeiev+HTxoOdvx6Zz+70loOAMDUrPxW2sdXv1df39xVJ4SytbWWweiimkllxuyLMgw5daplrqi9j/x6AABMydEEo45bbWtnKcHovvpKKfXVXalsoM5gdEYdNHqIPlB73xRh6YszzjwAAKYlTzCqbo/Nxwy1BZ/BwejyNT22yGqMMTqp9p7qW2z1OKTS04vq7AJ1wvXPHs3necs2XGvtkWl1/nP1bRGK1LvP1YdS+VBdweijLXUo9A5Vt9a+2XK2UboPf/1d+Repb399SSwHAGAMMvcYbat7N4XgEwYn18K31eTgUs8vw0lddk4dFP+ej0dy6tRhKFxfdzCqZewxWkmAEMYYeb1DVTCKjTlqvwUXQzACAKyD1QQjR75baR3ByOv9CQONXEf3ANmentUHo51XVXaI3D67pPbf6XJpGnLLzQ6yPvzM7l9z28ztHTJhadFgBADAOphuMGoNNJFlq9t0N9TeqXid5QQjPZ5IqddqRyxfNiEImXFGda9SUTYbcCsNAIB1QDBy6hxdMNLae4yWq3oKrSP0VHUYfA0AmDCCkVOn+1Za5DVXMsZoebfS6t6h1tAjPakGAMC0EIxsHRNu3C+MFINSUaf5mnpwd3P+gpb9VFqg8Z1FITO+aD4GqT8GXwMA1kGWYBT+xMdc8xuuhwaj+CPyfW6BOSHH0ezx8evVj/dLAcgEq/n6BjyuX1ne9xiF32gt9RT5dYZ/sSPBCACwDjL3GK0LOTwBAIDNRjASywEAwCYiGInlAABgE21oMAIAAGgiGAEAABgEIwAAAINgBAAAYBCMAAAADILRQNUXF67oG6r721YPf9hVL99eV8fF8lS51gMAwLgRjAYadTDauq6elIHm+bZQbsJOwy21HdZtXQ8AANNBMBpo1MFodqsKOw9nQlkVdh6o2ZZQFmpbDwAAE0IwGmjMwej44wdyD1BHWahPXQAA1tk0g9Hd1yas6B9itVP4g6z2h03r6dV9p/yS2n+nf/TUqxeEoEYwsr+Mr75T++fn9cZm+/kuY4YAAAhMNxiZyYYhHW5eqx2njv9L7zpEzefpYFRNdWAK6wTByIYiL2CN0Wk1e8uYIQAAQpMORl4PURVa2ntxdl65ocYEo6CHyK/jBKNBocgJYcIU9nQNFxl4TQ8SAGDDTTgYOb1DEVXICacwGAVBRwxGdlooFB2BPgOvAQDYIBsbjHQo8uuIPUYpwajsMTK9VP7tuXFiMDUAALINDUZmUHZr6OkZjOz/F1P/W1+rvZXGwGsAAGQbGoxMEHHGD+kepGIaEIzq8mLKPy4oFwZeAwAQs7ljjOrH6vVUP5Y/MBi5vT/jDEd64PWTx6eFMgAANts0gxEAAMACCEYAAAAGwQgAAMAgGAEAABgEIwAAAINgBAAAYBCMAAAADIIRAACAsbpgdOaZ+vrT7+eu3pbrFU5ceNNZp1TXM/bPyPWm5uydG+r9l3fV+0fnxHLMfXy1+ziKYTsDwOY5gh6jbXXvZlowenGh5WcrqqD1Rt07JpSl2Lmo3v/hk4aDHb/e2c+utJYfBdtgH945KZav1KmL6rB4LweXhbIRyBGM2M4DBOfZOpxfADbbKINRiqrBu7mrTghlSaoL9kU1k8qM2RflxdqpUy1zRe195NfbaBMORqOyhsGocf4EOL8AjNF6B6Mh6+gMRmfUQeMT7Adq75viYv7FGWfeIvSv+4/3h2Z7IBitxlK28xKPwyM9vwBgcfmCUfIYopZg1GMc0tKD0Udb6lD49Fp1/X+zpc4683qxP17r/fBsosvX9JgXqzH25aTae6pv/dTjY0pPLzrvN71OuP7Zo/k8b9mGay0NoiwcL+bvW33MlLdWvXpSj2F4DJX6HicT3s61IcdhgrI36PCzluvFEs6v6gedi6n8QWipHABS5AlGVWP0TH1cz7ut9qMNUkqPUaSO1OhZfW+rVcGo7Mqf8z69Vhfu2JiItk/Ccfku3HKDWs8vG8267Jw6KP49Hyfj1Kkb6XB93Q12LUdPRrFf/fFk+viZzzPHQ7mf62MirFOojg9/3NmwAD2x7WwsP0DY3iD93/occwPPqM8vAJssQzCaf5p35+tP9m5YsgYEI0fuWyR2EOj8U67p1hcu5otcuHdeVdfsTLctOhpsr1cibGjlOrpnwvZAHE2D7fL3rzkegvAr1QmPw6UGozXczu3H4SW1/06XS1P6sWsDkXuehLfJ8p5fAJBLhmBkeodE6xOMxAt1fYE3irJZ765+PY5DqddqRyxfREeD3drQRpatbh/dUHun4nWW2WBX+zM8foLQE+5v7xg4tqteFMuEX9mw1GDUun3Gtp2XcRzGSOOHCo3B1TnOLwDIK1swSv8OobEGo6JBKp+S6bgoV3UWGBy60h6j1oZ2bA22DUV+iPb3L8FoNT1GuejA0xhj1AhGTYueXwCQS7ZbaemNz1iDkfn02npRjnwSTrSyMUatDa1cp/sWT+Q1BzfY8ni03sFIGnMUWXe6KW3nufhxmOtWmvx0Wff4oWHnFwDkkGXwtX1SKK3XaJzBqPGdKiEz/qH1SZsUWZ4Gytxgm0Z3PnA40oAXdZqvqQcdN+enMvvaGT9U7Vsv0KQEI/Pvej3OLd6Fj5MpbefAkp9Ki902i54/Gc4vBl8DyCFLMCo1HrcOGiSxvDJ/iiiljjU0GNnB1jWhp8iv034LoJ/Fvj9GN6Km4fT0uTXjNL6OZk+EX69+7FxqmE2DP1+fbegTmdtgdn+XvT7VsVDv37RgVNcz6ymDur+eNJPdzg3L/T6t8BwLQ0/u84tgBCCHbMEI60Ju1JEb2xkA1hHBaOPQYK8G2xkA1hHBaOPQYK8G2xkA1hHBCAAAwCAYAQAAGAQjAAAAg2AEAABgEIwAAAAMgtFA1ZfKLevbgwfbVg9/2FUv315Xx8XyVLnWAwDAuBGMBhp1MNq6rp6Ugea5+/thpdNq9raYX5Y5Hs7cOo7oegAAmBaC0UCjDkazW5HAo3uA3PnHHz+Ih6PoegAAmBaC0UBjDkY67NxS22FZ1QP0QM223PmmF0m4XRZdDwAAEzPNYHT3tQkr+kcy7RT+WKb90cl6enXfKb+k9t/pH6T06gUhqBGM7K+Wq+/U/vl5vTGJBZ3t5+UtNQIQAGBzTTcYmcmGIR1uXqsdp47/K9w6RM3n6WBUTXVgCusEwciGIi9gjU8VgISeodh8AAA2xaSDkddDVIWW9l6cnVduqDHBKOgh8us4wWhQKHJCmDCFPV3DmFtmsQHZBCMAwAabcDByeociqpATTmEwCoKOGIzstFAoWjU98PrJ49OJ8wEA2BwbG4x0KPLriD1GKcGo7DEyvVT+7bkRMo/eh0+Y6XFH4YBsAAA2y4YGIzMouzX09AxG9v+Lqf+tr9XdSpMHXpsvcOR7igAAG25Dg5EJIs74Id2DVEwDglFdXkx5xwXl0xhgbb+8kbFFAABs8Bij+rF6PdWP5Q8MRm7vz/jCkfSN19w+AwDAmmYwAgAAWADBCAAAwCAYAQAAGAQjAAAAg2AEAABgEIwAAAAMghEAAIBBMAIAADBWF4zOPFNff/r93NXbcr3CiQtvOuuU6nrG/hm53tScvXNDvf/yrnr/6JxYjrmPr3YfRzFsZwDYPEfQY7St7t1MC0YvLrT8dlcVtN6oe8eEsj52Lqr3f/ikdrDjl5/97Epr+VGwDfbhnZNi+UqduqgOi/dycFkoG4EcwYjt3NcZdeCcMyH3HBrj+QVgs40yGKWoGrybu+qEUJZq9kV5Mb6oZkKZWF6FqCtq7yO/3kabcDAalbUKRhHB+cP5BWCM1jsYDVlHdRGOhyL7qdf/BPuB2vumuJh/ccaZtwj96/5j/aHZXghGq7GU7bzK4zA8d5Z5fgHA4vIFo+QxRC3BqMc4pKENXvlp9fCzlr/noy11KHx6rbr+v9lSZ515vdgfr/V+eDbR5Wt6zIvVGPtyUu091bd+6vExpacXnfebXidc/+zRfJ63bMO1lsApC8eL+ftWHzPlrVWvntRjGB5Dpb7HyYS3c23IcbiIsDdoCedX9YPOxVT+ILRUDgAp8gSjqjF6pj6u591W+9EGKaXHKFJHavSsXrfV7KfVYCyEe0GuLtzNMQ96TERbT1Ncvgu33KDW88tGsy47pw6Kf8/HyTh16kY6XF93g13L0ZNR7Fd/PJk+fubzzPFQ7uf6mAjrFKrjwx93NixAT2w7G6sPEKYnaG3OLwCbLEMwmn+ad+frT/ZuWLIGBCPHsAbPBiL3Ahx248cv5otcuHdeVdfsTLctOhpsr1cibGjlOrpnwvZAHE2D7fL3rzkegvAr1QmPw6UGozXczu3H4SW1/06XS9PCx64YgvKeXwCQS4ZgZHqHROMORuGn1ebgz2aP0qx3V78ex6HUa7Ujli+io8FubWgjy1a3j26ovVPxOstssKv9GR4/QegJ97d3DBzbVS+KZcKvbFhqMGrdPmPbzss4DtNUg6zFcybH+QUAeWULRunfITSeYNQYY5TwVEx1kV9gcOhKe4xaG9qxNdg2FPkh2t+/BKPV9BgtQeSWWcyi5xcA5JLtVlp64zOGYCQ//dI9viHS05RoZWOMWhtauU73LZ7Iaw5usOXxaL2DkTTmKLLudFPaznPx4zD/rbTGI/mthp1fAJBDlsHX9kmhtF6jMQSjQuS2WfRJNfPJt/VJthRZngbK3GCbRnc+cDjSgBd1mq+pBx0356cy+9oZP1TtWy/QpAQj8+96Pc4t3oWPkylt58Aqnkrrc85kOL8YfA0ghyzBqNR43DpokMTyyvwpopQ61uBgVNA9ROUnWi28KPvl7bfY+lns+2N0I2oaTk+fWzNO4+to9kT49erHzqWG2TT48/XZhj6RuQ1m93fZ61MdC/X+TQtGdT2znjKo++tJM9nt3LDc7zHq6i3KfX4RjADkkC0YYV3IjTpyYzsDwDoiGG0cGuzVYDsDwDoiGG0cGuzVYDsDwDoiGAEAABgEIwAAAINgBAAAYBCMAAAADIIRAACAQTAaqPpSuWV+e/Ag2+rhD7vq5dvr6rhYnirXegAAGDeC0UCjDkZb19WTMtA8d38/zHf88QP1sqxjSeEnYT0AAEwBwWigUQej2a0q7DycCWWRXqAyKDXqt64HAIDpIBgNNOZgpHuDbqntRtlpNXsb6R0SxNcDAMC0TDMY3X1twor+kUw7hT+WaX90sp5e3XfKL6n9d/oHKb16QQhqBCP7q+XqO7V/fl5vVKoeoAdqtiWUAQCwwaYbjMxkw5AON6/VjlPH/xVuHaLm83QwqqY6MIV1gmBkQ5EXsMamX28RAACbZNLByOshqkJLey/Ozis31JhgFPQQ+XWcYDQoFDkhTJjCnq5h9NiiJ49PC2UAAGy2CQcjp3coogo54RQGoyDoiMHITguFohUzT5gxkBoAgKaNDUY6FPl1xB6jlGBU9hiZXir/9twIEYwAAIja0GBkBmW3hp6ewcj+fzH1v/W1wltpJhhxKw0AgKYNDUYmiDjjh3QPUjENCEZ1eTHlHReU1/bz3eZTaUVgekhYAgBsuM0dY1Q/Vq+n+rH8gcHI7f0Zfzhy8JQaAAATDUYAAAALIBgBAAAYBCMAAACDYAQAAGAQjAAAAAyCEQAAgEEwAgAAMAhGAAAAxuqC0Zln6utPv5+7eluuVzhx4U1nnVJdz9g/I9ebmrN3bqj3X95V7x+dE8sx9/HV7uMohu0MAJvnCHqMttW9m2nB6MWFbbG8UgWtN+reMaGs0xl18IdP1PuIg5153bOfXYmWHRXbYB/eOSmWr9Spi+qweC8Hl4WyEcgRjNjOiwnPnfffbKmzHXXGcH4B2GyjDEYpqgbv5q46IZQtbOdicXG+ovY+0v+efVFerC+qWaQchQkHo1FZs2CkA49z7tgPI1+cqetwfgEYo/UORlkbvA/U3jfuhVtfyP1PsGGdRelf9x/zb6klIxitxlK287KOQ/k88cPSMs8vAFhcvmCUPIaoJRj1GIeUvcELP61+tKUOhU+v1cVduCWQzP54rffDs4kuX9NjXqzG2JeTau+pvvVTj48pPb3ovN/0OuH6Z4/m87xlG645PQVpwvFi/r7Vx0x5a9WrJ/UYhsdQqe9xMuHtXBtyHCaoeoOC88Sbt4Tzq/pB52IqfxBaKgeAFHmCUdUYPVMf1/Nuq/1og5TSYxSpIzV61qDbauaTqntBri7czTEPzVsE6fJduOUGtZ5fNpp12Tl1UPx7Pk7GqVM30uH6uhvsWo6ejGK/+uPJ9PEzn2eOh3I/18dEWKdQHR/+uLNhAXpi29lYSYAw5489p/R5E37wGOv5BWCTZQhG80/z7nz9yd4NS9aAYOTI2mMkXqTjYWmRC/fOq+qanem2RUeD7fVKhA2tXEf3TNgeiKNpsF3+/jXHQxB+pTrhcbjUYLSG27n9OLyk9t/pcmnqf+yac0g8Z/KeXwCQS4ZgZHqHROsRjKRufy14eq2oM+vd1a/HcSj1Wu2I5YvoaLBbG9rIstXtoxtq71S8zjIb7Gp/hsdPEHrC/e0dA8d21YtimfArG5YajFq3z9i28zKOwxYm5Bx+pq8ZeqD1/N9ajvMLAPLKFozSv0NoZMEo0qUfU13gFxgcutIeo9aGdmwNtg1Ffoj29y/BaDU9RrnIg6h1OGrvDVr0/AKAXLLdSktvfMYVjFIu1nPSkzTpVjbGqLWhlet03+KJvObgBlsej9Y7GEljjiLrTjel7TwXPw5z3UrT54nfO2THD7U9jj/s/AKAHLIMvrZPCqX1Go0oGAXd/a361G2T5WmgzA22aXTnA4cjDXhRp/maetBxc34qs6+d8UPVvvUCTUowMv+u1+Pc4l34OJnSdg4s9ak0O7bI/cBhbpvFbpNlOL8YfA0ghyzBqNR43DpokMTyyvwpopQ6Vo5g1NVbpD/hlnVKbZ90+1rs+2N0I2oaTk+fWzNO4+to9kT49erHzqWG2TT48/XZhj6RuQ1m93fZ61MdC/X+TQtGdT2znjKo++tJM9nt3LDM79NyB14b4vca2fLh5xfBCEAO2YIR1oXcqCM3tjMArCOC0cahwV4NtjMArCOC0cahwV4NtjMArCOCEQAAgEEwAgAAMAhGAAAABsEIAADAIBgBAAAYBKOBqi+VW8q3B+ewrR7+sKtevr2ujovlqXKtBwCAcSMYDTTqYLR1XT0pA81z9/fDtOOPH6iXZZlLqFdpWQ8AAFNCMBpo1MFodqsKPA9nzbLt50XQcXuATN0nj0836ratBwCAKSEYDTTmYKR7hW6p7UbZaTV7G4YgfbtMCkbx9QAAMC3TDEZ3X5uwon8k007hj2XaH52sp1f3nfJLav+d/kFKr14QghrByP5qufpO7Z+f1xsXHYK8HiBzu4xeIQDAJptuMDKTDUM63LxWO04d/1e4dYiaz9PBqJrqwBTWCYKRDUVewBqh6tbYAzXbsvMYXA0AQGnSwcjrIapCS3svzs4rN9SYYBT0EPl1nGA0KBQ5IUyYwp6uoXoNvAYAYINMOBg5vUMRVcgJpzAYBUFHDEZ2WigUrV5j4LUZc0SPEQBg021sMNKhyK8j9hilBKOyx8j0Uvm358bIhKCgh4gB1gAAbGwwMoOyW0NPz2Bk/7+Y+t/6WuWtNPnps2YvEgAAm2dDg5EJIs74Id2DVEwDglFdXky5xwVlI3wnkR1zxBNpAIBNt7ljjOrH6vVUP5Y/MBi5vT9jDEfiwGtuoQEAUJlmMAIAAFgAwQgAAMAgGAEAABgEIwAAAINgBAAAYBCMAAAADIIRAACAQTACAAAwVheMzjxTX3/6/dzV23I9AACAI3IEPUbb6t5NghEAABgfghEAAIBBMAIAADDyBaPkMUQdwShcz6fP1MdddSLrqn7gtZjKH4iVygEAAFx5glEVVNwAc1vtRwNLSzA6tqteFMvtnwnmu3q8FsEIAAD0kSEY6aDz4sK2N//EhTdBgLFaglEVet6oe8eC+bW+rwUAAJAuQzAyPTainsHIllXLSgGp72sBAACkyxaMWm9/edqCkRULSH1fCwAAIF22W2ntQcfVp35Yt+9rAQAApMsy+FqP8UntyekTbnQPkTumqM9rMfgaAAD0kSUYlWxg8TjhRyyvzG+VSXXCgdbRdQlBi2AEAAD6yBaMAAAA1h3BCAAAwCAYAQAAGAQjAAAAg2AEAABgEIwAAAAMghEAAIBBMAIAADAIRgNVXyL57nP1oVB29LbVwx921cu319VxsTxVrvUAADBuBKOBRh2Mtq6rJ2Wged789vCarfPDAzXbEsrdOm3rAQBgAghGA406GM1uFYFnVz2cCWXG9vOi/LEOPtF6CesBAGAKCEYDjTkYHX/8oAg0t9S2UFYpA091e0zfKosFn871AAAwEdMMRndfm7ByX31V/Yysnr6669ezPzJbT6/uO+WX1P47/QO0Xr0gBDWC0fnP1bdVxe/U/vl5vfE5rWZvd9WTx6eL/9fBSP+/VBcAgM0w3WBkJhuGdLh5rXacOv6v7usQNZ+ng1E11YEprBMEIxuKvIA1UtXtMdsLpEMSY4gAAJtu0sHI6yGqQkt7L87OKzfUmGAU9BD5dZxgNCgUOSFMmMKeruHc3iI9rxxrxFNnAIBNN+Fg5PQORVQhJ5zCYBQEHTEY2WmhUHQEvN4ijWAEAMAGByMdivw6Yo9RSjAqe4xML5V/e26MzG2zHyQMsAYAbLYNDUZmUHZr6OkZjOz/F1P/W1+ru5UWfcKs6kVq+S4jAAA2wIYGIxNEnPFDugepmAYEo7q8mPKPC8qh5ekzvqsIAIANHmNUP1avp/qx/IHByO39GVs4qsYRxW6XmW+3JhgBADbZNIMRAADAAghGAAAABsEIAADAIBgBAAAYBCMAAACDYAQAAGAQjAAAAAyCEQAAgEEwAgAAMAhGAAAABsEIAADAIBgBAAAYBCMAAACDYAQAAGAQjAAAAAyCEQAAgEEwAgAAMAhGAAAABsEIAADAIBgBAAAYBCMAAACDYAQAAGAQjAAAAAyCEQAAgEEwAgAAMAhGAAAABsEIAADAIBgdoZc/7Ea5ddxl2rTVTVmPfW1LKg/n9RGuP+TWc5fr0rc+2rE9h7PHtCssd/8dCpcNufXc5UKx5cI6feZL2ura15a4ddxlgKM0ymB09s4N9f7Lu+r9o3Ni+VLcfa2Ueq12pLLatnrondi31LYp235e/vuBmm39WB1//KAqf/L4dLD8XOqFoM8Fo61u13qk8nBen/fSZch7DeV8X3/8p6fV7K3Zv2+vq+NBud23L59ve/PHSh+Xpfmx2iXv9pS0b+OV2LqunhSv/3AmlDkW2X4p+mzjtrp9y1Lntc2XDF1Hn9ey2q+599VXxRX9q7vN5YAuow5Gh3dOiuVJTl1Uh8U6Di4LZaHzn6tvi5Po219fkstL5kIqhx1zoTcXefeEbdbVcl8wuuq1lcfKwvmp76VLuZ5F3o+ka139mP3YEnpSQu/q6Pfb/V5MoE8Mc/m2p6R7G6/E7Fbxd7afo3Pp288ej21svXBZibuMJFbWZ37fdUiGrqPPa2nd19wPf/1dcVUnHKG/6d5KSw5G+pOFenVfKJurTrzop1t94bQNVHvd5Vws2urmKOvzXrqU6wrX7XLrtgnX4ZYtpAq/qY3lGOjjrqvXo1Qdk4kNuzQ/m5Fs4yrg9uitSt1+Kfoe4+Fx7nLrunWk+aWwbJF1hIauo89rzaVdc3U46roTAPg2PhilnTgdn3K9bvnuT/F9LhiWVG7Z8li9tuVTy9rq9WHXE1tfyuuUdcJ60ry++jaWRy651yO1Z2m+HVNIy3cZyzbuF3SGb79YHXd+yJbH6vWdXwrLFllHaOg6+rxWLfmam/bBF3BlCEYn1d5TfdurHhtUenpRnXXrXb5m5p1TB7ZOGFzKOk5Zc4xR92t58xuuqZm3Pn3StN5Cq6R/Mk/RdiEoy1xSHZdbJ7ZM23qkZWLz3H/3Fa5Teg07P5xn58eWcaXWk8QbS3MrxRCPA6cnpFqPre+GACfIuHX8C7r/SdiavzcT0u36Q2LoyHv8DhHfxk7jVm0n+zc1x/Z429ey60zZD8429upEg1La9ivXkTI/Vs+y7yf2b3d+OM/OD8sWWYc0XzJ0HX1eaxH0GqGvbMGoCh51QDHz3GDjhB4bhnSICcNKSVjenV+upy7TQasxHimlx6gacP2d2j8vlHU1QAMGY8rr09w67jISqU44L3U9Lqk8nJcqtk7LLRvyOsPFP3VuP7f72hwTUgNaNea31EO34fc+1do6D9QT53X0mCXnWAqXqbSEpZTeFycsiOUFu5/6kNbTLr6N67/xrbs9wr9b/9vf/kGdlP1g/l39HbaOE1r1eh09tl+sTPr/UNs6SqnrKdl1WbE6feZLhq6jrGdJ5VmYMaSMNUKqfMEo6CFqhB4TjLygUoWXG2rvlDOv0hGMgteaPRLqJgSj1E8SjcZrBbouFLHycH6OC85SL1qOVb2OJG0fx4ORXj4s0422bZDFOmGjaxp2732EDXulLWQExOVXr3Ub12HFLfdDjxgEg78tZT/obRzU6QxG3duvWqcgrOP+e1E51hNbR591D11Hjr+j2yW1/y7lzgCg5QtGYTCpgpATeqp/S71Dko5gFMwfFIzefa4+FMpcyZ/MM2q74PS5mOS48Kzm4hVn/+Y+pPVIbEOaFDDCBtah1xM0rEFjq2/bBMFAqhMea1JYankvojp4RBr/JUraxiasxP8ePyRZYdhK2Q+NOua1pcBbO8Lt11fq8R+rl7p8aeg6+rzW4nQwYpwRUhGMhg68XlB5QWgjLWN1lVup9doMXYf9e1JIy8f0rd8ucR8HDeycvLzfaC9ax8wTw1JaI50S7PNuT0n7Ng4DTkMVTMK/N9w2KdvYbo9b6mFZtzr2Wl63kLr9UkjLWlL9GGn5UluZK1YvdfnS0HX0ea1h6DFCP0sLRvKttHEFo/YxRlbPT+YdyotB1wVhaPkQ9v3Z1xj6WqnL932doe8rVDV+kUbbijfecm+G36BKx1HYkAvrifRmdAaJWtrxm3t7Stq2cWf4EIKg3gYd26/gr1tvc10nDFaStO2Xomsbp+6DtnrV9kgUWz42P1yu7zosW95VLxvGGKGn5QQjE0q8AdGrDkb26bfGfFfCU2k9PpmnSL0YtNUbckEpl20j1Q/n9ZG6fN/XGfq+fHKDGvLDSLGMbVDFMShuA1z8WziOqgbbCzfB+6iWCQYSW6nHpdjT0pR3e0ratnGwrSThNjZ/vzuQPWk/hHXMv6Ovnbj9UnRt4xznytB1lPMlsbqp86V1xZbX+7asmxL8u/FUGvrKF4zKEOJo9NQkBKP4o/b2llyfYFQwAW2+nubr77wqzpmWkyb9k3m38MIg6apjy1NIy/cxdB3h+2kjLR/Tt36n1MbPNKL6PTv1TYDxjpGgAa57N1xCT4Vfr1xnPDToYDXnBwKtWl9rj8iKjqm2bRxsqxhv21R/kxQ+2/eDFCjteqVtnLL9UnRtu/rvSiAtX5LqxkjL99G2jvC1pLrSvFrWYMT4IvS3vDFGa6P9C8A6u/gX4F4wQlL9ozK292Nlf19Sg5rZMo6jFNXrRm5frdQKtvEy5Np+Yz2XFrUufw+9RVgEwagU+a00+0my65Ms1pzQi5BXwq2iZTCfvEdx/C59Gy/BmLYf+ksaQwo0EYys+tf1dSNWXhDX7kKOhc1vSy2hVyPxVlEu7i2nMTXqS93GGY11+6EPfSeAAddYRIZgBAAAMA0EIwAAAINgBAAAYBCMAAAADIIRAACAQTACAAAwCEYAAAAGwQgAAMAgGAEAABgEIwAAAINgBAAAYBCMAAAADIIRAACAQTACAAAwCEYAAAAGwQgAAMAgGAEAABgEIwAAAINgBAAAYBCMAAAADIIRAACAQTACAACo/Fj9f28guYSbC5onAAAAAElFTkSuQmCC)"
      ],
      "metadata": {
        "id": "536J7JS8Z2Q2"
      }
    },
    {
      "cell_type": "code",
      "source": [
        "# 반복문 While For\n",
        "\n",
        "# While 은 반복횟수가 불명확할때 주로 사용되고 \n",
        "# For 문은 반복횟수가 명확할때 주로 사용된다. \n",
        "\n",
        "# 예를 들어 'ht' 10번 반복하여 출력하고자한다. \n",
        "print('ht') \n",
        "print('ht') \n",
        "print('ht') \n",
        "print('ht') \n",
        "print('ht') \n",
        "print('ht') \n",
        "print('ht') \n",
        "print('ht') \n",
        "print('ht') \n",
        "print('ht') \n",
        "\n",
        "# 10번의 경우에는 위와같이 10번 반복할수 있다. 하지만 1000번이라면 무모하다. "
      ],
      "metadata": {
        "colab": {
          "base_uri": "https://localhost:8080/"
        },
        "id": "LFNee95OZ1y-",
        "outputId": "78394fee-0ce3-4e55-f329-82a9f213d480"
      },
      "execution_count": null,
      "outputs": [
        {
          "output_type": "stream",
          "name": "stdout",
          "text": [
            "ht\n",
            "ht\n",
            "ht\n",
            "ht\n",
            "ht\n",
            "ht\n",
            "ht\n",
            "ht\n",
            "ht\n",
            "ht\n"
          ]
        }
      ]
    },
    {
      "cell_type": "code",
      "source": [
        "for i in range(10): \n",
        "  print('ht')\n",
        "\n",
        "  #range는 인수 3개가 기본이다. range(start, stop, step)\n",
        "  #start 생략가능 0에서 시작 step 생략가능 하나씩 증가. "
      ],
      "metadata": {
        "colab": {
          "base_uri": "https://localhost:8080/"
        },
        "id": "Q_a7Qzz2baIJ",
        "outputId": "2085d7eb-3431-4ec8-e792-a3966a503fcc"
      },
      "execution_count": null,
      "outputs": [
        {
          "output_type": "stream",
          "name": "stdout",
          "text": [
            "ht\n",
            "ht\n",
            "ht\n",
            "ht\n",
            "ht\n",
            "ht\n",
            "ht\n",
            "ht\n",
            "ht\n",
            "ht\n"
          ]
        }
      ]
    },
    {
      "cell_type": "code",
      "source": [
        "list1 = [10,30,20,50]\n",
        "\n",
        "for i in list1:\n",
        "  print(i)"
      ],
      "metadata": {
        "colab": {
          "base_uri": "https://localhost:8080/"
        },
        "id": "KQqhpTiTckPu",
        "outputId": "8290157e-be7e-4559-bf13-570c88cdf038"
      },
      "execution_count": null,
      "outputs": [
        {
          "output_type": "stream",
          "name": "stdout",
          "text": [
            "10\n",
            "30\n",
            "20\n",
            "50\n"
          ]
        }
      ]
    },
    {
      "cell_type": "code",
      "source": [
        "list1 = [10,30,20,50]\n",
        "\n",
        "for i in range(4):\n",
        "  print(list1[i])"
      ],
      "metadata": {
        "colab": {
          "base_uri": "https://localhost:8080/"
        },
        "id": "QVGSMSpWc69W",
        "outputId": "488597e4-0e36-4ea1-d2a9-baf6d2b875c1"
      },
      "execution_count": null,
      "outputs": [
        {
          "output_type": "stream",
          "name": "stdout",
          "text": [
            "10\n",
            "30\n",
            "20\n",
            "50\n"
          ]
        }
      ]
    },
    {
      "cell_type": "code",
      "source": [
        "# 리스트와 for문을 이용하여 1~100까지의 합 구하기\n",
        "\n",
        "numbers = list(range(1, 101))\n",
        "sum = 0\n",
        "for number in numbers:\n",
        "    sum += number\n",
        "print(\"The sum is\", sum)"
      ],
      "metadata": {
        "colab": {
          "base_uri": "https://localhost:8080/"
        },
        "id": "pwE3VTtCdb75",
        "outputId": "6dddabc7-fe63-4bd5-b987-07834d97743c"
      },
      "execution_count": null,
      "outputs": [
        {
          "output_type": "stream",
          "name": "stdout",
          "text": [
            "The sum is 5050\n"
          ]
        }
      ]
    },
    {
      "cell_type": "code",
      "source": [
        "# 2중 for 문\n",
        "\n",
        "for x in range(2,10):\n",
        "  for y in range(1,10):\n",
        "    print(x , \"*\", y, \"=\", x*y , end=\" \\t\")\n",
        "  print(\"\")\n",
        "\n",
        "# 단별로 옆으로 한줄로 찍기\n"
      ],
      "metadata": {
        "colab": {
          "base_uri": "https://localhost:8080/"
        },
        "id": "oZhzprpthBOt",
        "outputId": "2197f8ce-50d9-42d8-ddc9-675123bd2fc8"
      },
      "execution_count": null,
      "outputs": [
        {
          "output_type": "stream",
          "name": "stdout",
          "text": [
            "2 * 1 = 2 \t2 * 2 = 4 \t2 * 3 = 6 \t2 * 4 = 8 \t2 * 5 = 10 \t2 * 6 = 12 \t2 * 7 = 14 \t2 * 8 = 16 \t2 * 9 = 18 \t\n",
            "3 * 1 = 3 \t3 * 2 = 6 \t3 * 3 = 9 \t3 * 4 = 12 \t3 * 5 = 15 \t3 * 6 = 18 \t3 * 7 = 21 \t3 * 8 = 24 \t3 * 9 = 27 \t\n",
            "4 * 1 = 4 \t4 * 2 = 8 \t4 * 3 = 12 \t4 * 4 = 16 \t4 * 5 = 20 \t4 * 6 = 24 \t4 * 7 = 28 \t4 * 8 = 32 \t4 * 9 = 36 \t\n",
            "5 * 1 = 5 \t5 * 2 = 10 \t5 * 3 = 15 \t5 * 4 = 20 \t5 * 5 = 25 \t5 * 6 = 30 \t5 * 7 = 35 \t5 * 8 = 40 \t5 * 9 = 45 \t\n",
            "6 * 1 = 6 \t6 * 2 = 12 \t6 * 3 = 18 \t6 * 4 = 24 \t6 * 5 = 30 \t6 * 6 = 36 \t6 * 7 = 42 \t6 * 8 = 48 \t6 * 9 = 54 \t\n",
            "7 * 1 = 7 \t7 * 2 = 14 \t7 * 3 = 21 \t7 * 4 = 28 \t7 * 5 = 35 \t7 * 6 = 42 \t7 * 7 = 49 \t7 * 8 = 56 \t7 * 9 = 63 \t\n",
            "8 * 1 = 8 \t8 * 2 = 16 \t8 * 3 = 24 \t8 * 4 = 32 \t8 * 5 = 40 \t8 * 6 = 48 \t8 * 7 = 56 \t8 * 8 = 64 \t8 * 9 = 72 \t\n",
            "9 * 1 = 9 \t9 * 2 = 18 \t9 * 3 = 27 \t9 * 4 = 36 \t9 * 5 = 45 \t9 * 6 = 54 \t9 * 7 = 63 \t9 * 8 = 72 \t9 * 9 = 81 \t\n"
          ]
        }
      ]
    },
    {
      "cell_type": "code",
      "source": [
        "for i in range(1, 10):\n",
        "    for j in range(1, 10):\n",
        "        print(f\"{i} x {j} = {i*j:2}\", end=\"  \")\n",
        "    print()"
      ],
      "metadata": {
        "colab": {
          "base_uri": "https://localhost:8080/"
        },
        "id": "VwDbpz9YjHV3",
        "outputId": "8ab1a66a-db83-4995-ea6a-8080edf1f33f"
      },
      "execution_count": null,
      "outputs": [
        {
          "output_type": "stream",
          "name": "stdout",
          "text": [
            "1 x 1 =  1  1 x 2 =  2  1 x 3 =  3  1 x 4 =  4  1 x 5 =  5  1 x 6 =  6  1 x 7 =  7  1 x 8 =  8  1 x 9 =  9  \n",
            "2 x 1 =  2  2 x 2 =  4  2 x 3 =  6  2 x 4 =  8  2 x 5 = 10  2 x 6 = 12  2 x 7 = 14  2 x 8 = 16  2 x 9 = 18  \n",
            "3 x 1 =  3  3 x 2 =  6  3 x 3 =  9  3 x 4 = 12  3 x 5 = 15  3 x 6 = 18  3 x 7 = 21  3 x 8 = 24  3 x 9 = 27  \n",
            "4 x 1 =  4  4 x 2 =  8  4 x 3 = 12  4 x 4 = 16  4 x 5 = 20  4 x 6 = 24  4 x 7 = 28  4 x 8 = 32  4 x 9 = 36  \n",
            "5 x 1 =  5  5 x 2 = 10  5 x 3 = 15  5 x 4 = 20  5 x 5 = 25  5 x 6 = 30  5 x 7 = 35  5 x 8 = 40  5 x 9 = 45  \n",
            "6 x 1 =  6  6 x 2 = 12  6 x 3 = 18  6 x 4 = 24  6 x 5 = 30  6 x 6 = 36  6 x 7 = 42  6 x 8 = 48  6 x 9 = 54  \n",
            "7 x 1 =  7  7 x 2 = 14  7 x 3 = 21  7 x 4 = 28  7 x 5 = 35  7 x 6 = 42  7 x 7 = 49  7 x 8 = 56  7 x 9 = 63  \n",
            "8 x 1 =  8  8 x 2 = 16  8 x 3 = 24  8 x 4 = 32  8 x 5 = 40  8 x 6 = 48  8 x 7 = 56  8 x 8 = 64  8 x 9 = 72  \n",
            "9 x 1 =  9  9 x 2 = 18  9 x 3 = 27  9 x 4 = 36  9 x 5 = 45  9 x 6 = 54  9 x 7 = 63  9 x 8 = 72  9 x 9 = 81  \n"
          ]
        }
      ]
    },
    {
      "cell_type": "code",
      "source": [
        "def print_multiplication_table(n):\n",
        "    for i in range(1, 10):\n",
        "        print(n, \"x\", i, \"=\", n*i, end=\"\\t\")\n",
        "    print()\n",
        "\n",
        "for i in range(2, 10):\n",
        "    print(\"***\", i, \"단 ***\")\n",
        "    print_multiplication_table(i)\n"
      ],
      "metadata": {
        "colab": {
          "base_uri": "https://localhost:8080/"
        },
        "id": "yC7AQJrsjll9",
        "outputId": "b88c0692-35b7-46b2-eff9-e343cd47cdba"
      },
      "execution_count": null,
      "outputs": [
        {
          "output_type": "stream",
          "name": "stdout",
          "text": [
            "*** 2 단 ***\n",
            "2 x 1 = 2\t2 x 2 = 4\t2 x 3 = 6\t2 x 4 = 8\t2 x 5 = 10\t2 x 6 = 12\t2 x 7 = 14\t2 x 8 = 16\t2 x 9 = 18\t\n",
            "*** 3 단 ***\n",
            "3 x 1 = 3\t3 x 2 = 6\t3 x 3 = 9\t3 x 4 = 12\t3 x 5 = 15\t3 x 6 = 18\t3 x 7 = 21\t3 x 8 = 24\t3 x 9 = 27\t\n",
            "*** 4 단 ***\n",
            "4 x 1 = 4\t4 x 2 = 8\t4 x 3 = 12\t4 x 4 = 16\t4 x 5 = 20\t4 x 6 = 24\t4 x 7 = 28\t4 x 8 = 32\t4 x 9 = 36\t\n",
            "*** 5 단 ***\n",
            "5 x 1 = 5\t5 x 2 = 10\t5 x 3 = 15\t5 x 4 = 20\t5 x 5 = 25\t5 x 6 = 30\t5 x 7 = 35\t5 x 8 = 40\t5 x 9 = 45\t\n",
            "*** 6 단 ***\n",
            "6 x 1 = 6\t6 x 2 = 12\t6 x 3 = 18\t6 x 4 = 24\t6 x 5 = 30\t6 x 6 = 36\t6 x 7 = 42\t6 x 8 = 48\t6 x 9 = 54\t\n",
            "*** 7 단 ***\n",
            "7 x 1 = 7\t7 x 2 = 14\t7 x 3 = 21\t7 x 4 = 28\t7 x 5 = 35\t7 x 6 = 42\t7 x 7 = 49\t7 x 8 = 56\t7 x 9 = 63\t\n",
            "*** 8 단 ***\n",
            "8 x 1 = 8\t8 x 2 = 16\t8 x 3 = 24\t8 x 4 = 32\t8 x 5 = 40\t8 x 6 = 48\t8 x 7 = 56\t8 x 8 = 64\t8 x 9 = 72\t\n",
            "*** 9 단 ***\n",
            "9 x 1 = 9\t9 x 2 = 18\t9 x 3 = 27\t9 x 4 = 36\t9 x 5 = 45\t9 x 6 = 54\t9 x 7 = 63\t9 x 8 = 72\t9 x 9 = 81\t\n"
          ]
        }
      ]
    },
    {
      "cell_type": "code",
      "source": [],
      "metadata": {
        "id": "_BGnVstFkebs"
      },
      "execution_count": null,
      "outputs": []
    },
    {
      "cell_type": "code",
      "source": [
        "# While \n",
        "\n",
        "# while  조건식:\n",
        "#   수행시킬 구문\n",
        "\n",
        "\n",
        "# while True:  # 조건에 True 따라서 무한 반복\n",
        "#   print(\"hi\")"
      ],
      "metadata": {
        "id": "uTRjTqqzkenE"
      },
      "execution_count": null,
      "outputs": []
    },
    {
      "cell_type": "code",
      "source": [
        "i = 10\n",
        "while i > 5:\n",
        "  print('hi')\n",
        "  i -= 1  #  파이썬은 자바처럼 i++ 즉 증감연산자는 사용하지 않는다. i = i + 1"
      ],
      "metadata": {
        "colab": {
          "base_uri": "https://localhost:8080/"
        },
        "id": "k4QkMPQmlIMZ",
        "outputId": "f44dc2fb-3a63-4ded-e294-cbfdfebe8b37"
      },
      "execution_count": null,
      "outputs": [
        {
          "output_type": "stream",
          "name": "stdout",
          "text": [
            "hi\n",
            "hi\n",
            "hi\n",
            "hi\n",
            "hi\n"
          ]
        }
      ]
    },
    {
      "cell_type": "code",
      "source": [
        "import random\n",
        "\n",
        "temp_no = 0\n",
        "while temp_no != 3: # 3이 나올때까지 반복하여 난수 발생\n",
        "  temp_no = random.randint(1,6) # 끝 숫자 6도 포함된다. 미만이 아닌 이하 \n",
        "\n",
        "  print(f'발생된 난수는 {temp_no}입니다.')\n"
      ],
      "metadata": {
        "colab": {
          "base_uri": "https://localhost:8080/"
        },
        "id": "R79a5OpFlCCf",
        "outputId": "426f0b19-6305-4097-b7de-7769d4f2951b"
      },
      "execution_count": null,
      "outputs": [
        {
          "output_type": "stream",
          "name": "stdout",
          "text": [
            "발생된 난수는 6입니다.\n",
            "발생된 난수는 2입니다.\n",
            "발생된 난수는 6입니다.\n",
            "발생된 난수는 1입니다.\n",
            "발생된 난수는 4입니다.\n",
            "발생된 난수는 5입니다.\n",
            "발생된 난수는 5입니다.\n",
            "발생된 난수는 4입니다.\n",
            "발생된 난수는 6입니다.\n",
            "발생된 난수는 6입니다.\n",
            "발생된 난수는 3입니다.\n"
          ]
        }
      ]
    },
    {
      "cell_type": "code",
      "source": [
        "# 난수 발생 정리\n",
        "\n",
        "\n",
        "import random  # random 모듈 임포트 후 사용\n",
        "\n",
        "random.random() # 0에서 1미만 실수 float 으로 생성"
      ],
      "metadata": {
        "colab": {
          "base_uri": "https://localhost:8080/"
        },
        "id": "jH65nf2enjo9",
        "outputId": "5c35ea86-35e6-4d11-859a-11f678955ddf"
      },
      "execution_count": null,
      "outputs": [
        {
          "output_type": "execute_result",
          "data": {
            "text/plain": [
              "0.5768931290328287"
            ]
          },
          "metadata": {},
          "execution_count": 43
        }
      ]
    },
    {
      "cell_type": "code",
      "source": [
        "random.randint(1,10) # 1에서 10이하 의 정수 하나 생성"
      ],
      "metadata": {
        "id": "4hmOYDKinxRN"
      },
      "execution_count": null,
      "outputs": []
    },
    {
      "cell_type": "code",
      "source": [
        "random.randrange(0,10, 2) # 0에서 10 미만 중 2의 배수로 난수 발생"
      ],
      "metadata": {
        "colab": {
          "base_uri": "https://localhost:8080/"
        },
        "id": "acD7pugCoO1t",
        "outputId": "ad66f18e-c3f0-47f2-ad30-fac3f3f521a4"
      },
      "execution_count": null,
      "outputs": [
        {
          "output_type": "execute_result",
          "data": {
            "text/plain": [
              "8"
            ]
          },
          "metadata": {},
          "execution_count": 52
        }
      ]
    },
    {
      "cell_type": "code",
      "source": [
        "random.choice(['봄','여름','가을','겨울']) # 리스트의 값들 중 하나를 임의로 선택"
      ],
      "metadata": {
        "colab": {
          "base_uri": "https://localhost:8080/",
          "height": 36
        },
        "id": "XWHs0F4Pohgo",
        "outputId": "b39aff8f-01b6-4081-c651-4d1e7cfa239e"
      },
      "execution_count": null,
      "outputs": [
        {
          "output_type": "execute_result",
          "data": {
            "text/plain": [
              "'가을'"
            ],
            "application/vnd.google.colaboratory.intrinsic+json": {
              "type": "string"
            }
          },
          "metadata": {},
          "execution_count": 57
        }
      ]
    },
    {
      "cell_type": "code",
      "source": [
        "random.sample(range(1,46), 6)  # range 범위 중 임의의 갯수 추출"
      ],
      "metadata": {
        "colab": {
          "base_uri": "https://localhost:8080/"
        },
        "id": "m1ahdTobox-B",
        "outputId": "1f88b444-1048-468c-f1f2-c542e645a3c5"
      },
      "execution_count": null,
      "outputs": [
        {
          "output_type": "execute_result",
          "data": {
            "text/plain": [
              "[42, 20, 25, 19, 38, 37]"
            ]
          },
          "metadata": {},
          "execution_count": 64
        }
      ]
    },
    {
      "cell_type": "code",
      "source": [
        "list1 = [1,2,3,4,5]\n",
        "\n",
        "random.shuffle(list1)\n",
        "\n",
        "print(list1)"
      ],
      "metadata": {
        "colab": {
          "base_uri": "https://localhost:8080/"
        },
        "id": "pg5auvympRPV",
        "outputId": "2b949eb1-5a23-4720-a358-b7235de9ea5c"
      },
      "execution_count": null,
      "outputs": [
        {
          "output_type": "stream",
          "name": "stdout",
          "text": [
            "[1, 5, 3, 4, 2]\n"
          ]
        }
      ]
    },
    {
      "cell_type": "code",
      "source": [
        "# break  강제로 while 문 빠져나가기 \n",
        "# continue continue 하단의 내용은 건너뛰고 다시 반복문으로 들어가기\n",
        "\n",
        "i = 0\n",
        "\n",
        "while i < 10:\n",
        "  i += 1\n",
        "  if i % 2 == 0: \n",
        "    print(i)"
      ],
      "metadata": {
        "colab": {
          "base_uri": "https://localhost:8080/"
        },
        "id": "bGvW08BrqSI1",
        "outputId": "0502afae-64ec-419c-8813-0b8ac7a7da23"
      },
      "execution_count": null,
      "outputs": [
        {
          "output_type": "stream",
          "name": "stdout",
          "text": [
            "2\n",
            "4\n",
            "6\n",
            "8\n",
            "10\n"
          ]
        }
      ]
    },
    {
      "cell_type": "code",
      "source": [
        "i = 0\n",
        "\n",
        "while i < 10:\n",
        "  i += 1\n",
        "  if i % 2 == 0: continue\n",
        "  print(i)"
      ],
      "metadata": {
        "colab": {
          "base_uri": "https://localhost:8080/"
        },
        "id": "kw2H2Fh-rbm_",
        "outputId": "40b9f900-3c9f-47b4-95c8-c8ea496061fd"
      },
      "execution_count": null,
      "outputs": [
        {
          "output_type": "stream",
          "name": "stdout",
          "text": [
            "1\n",
            "3\n",
            "5\n",
            "7\n",
            "9\n"
          ]
        }
      ]
    },
    {
      "cell_type": "code",
      "source": [
        "i = 0\n",
        "\n",
        "while True:\n",
        "  i += 1\n",
        "  if i == 10: break\n",
        "  print(i)"
      ],
      "metadata": {
        "colab": {
          "base_uri": "https://localhost:8080/"
        },
        "id": "EraMrL3-r197",
        "outputId": "d4ecc41d-a7bf-4438-d213-68231aaa199d"
      },
      "execution_count": null,
      "outputs": [
        {
          "output_type": "stream",
          "name": "stdout",
          "text": [
            "1\n",
            "2\n",
            "3\n",
            "4\n",
            "5\n",
            "6\n",
            "7\n",
            "8\n",
            "9\n"
          ]
        }
      ]
    },
    {
      "cell_type": "code",
      "source": [],
      "metadata": {
        "id": "9_VRAE36rbtT"
      },
      "execution_count": null,
      "outputs": []
    }
  ]
}